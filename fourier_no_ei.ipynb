{
 "metadata": {
  "name": "",
  "signature": "sha256:9c7a7aada942ab53b0e409a39ff93fb9088a9e1a92cd74cf7e6943c93abe2998"
 },
 "nbformat": 3,
 "nbformat_minor": 0,
 "worksheets": [
  {
   "cells": [
    {
     "cell_type": "code",
     "collapsed": false,
     "input": [
      "# - compatibility with Python 3\n",
      "from __future__ import print_function  # print('me') instead of print 'me'\n",
      "from __future__ import division  # 1/2 == 0.5, not 0"
     ],
     "language": "python",
     "metadata": {},
     "outputs": []
    },
    {
     "cell_type": "code",
     "collapsed": false,
     "input": [
      "# - show figures inside the notebook\n",
      "%matplotlib inline"
     ],
     "language": "python",
     "metadata": {},
     "outputs": []
    },
    {
     "cell_type": "code",
     "collapsed": false,
     "input": [
      "# - import common modules\n",
      "import numpy as np  # the Python array package\n",
      "import matplotlib.pyplot as plt  # the Python plotting package"
     ],
     "language": "python",
     "metadata": {},
     "outputs": []
    },
    {
     "cell_type": "code",
     "collapsed": false,
     "input": [
      "# - set gray colormap and nearest neighbor interpolation by default\n",
      "plt.rcParams['image.cmap'] = 'gray'\n",
      "plt.rcParams['image.interpolation'] = 'nearest'"
     ],
     "language": "python",
     "metadata": {},
     "outputs": []
    },
    {
     "cell_type": "code",
     "collapsed": false,
     "input": [
      "# - tell numpy to print numbers to 4 decimal places only\n",
      "np.set_printoptions(precision=4, suppress=True)"
     ],
     "language": "python",
     "metadata": {},
     "outputs": []
    },
    {
     "cell_type": "markdown",
     "metadata": {},
     "source": [
      "## Fourier without the ei"
     ]
    },
    {
     "cell_type": "markdown",
     "metadata": {},
     "source": [
      "The standard equations for discrete Fourier transforms (DFTs) involve exponentials to the power of $i$ - the imaginary unit.  I personally find these difficult to think about, and it turns out, the DFT is fairly easy to recast in terms of $\\sin$ and $\\cos$.  This page goes through this process, and tries to show how thinking in this way can explain some features of the DFT.\n",
      "\n",
      "You will not need heavy math to follow this page.  If you don't remember the following concepts you might want to brush up on them.  There are also links to proofs and explanations for these ideas in the page as we go along:\n",
      "\n",
      "* basic trigonometry (SOH CAH TOA, Pythagoras' theorem);\n",
      "* the angle sum rule;\n",
      "* basic algebra with sums (e.g. $\\sum_{i=0}^{N-1} (x_i + 4) = \\sum_{i=0}^{N-1} x_i + N 4$);\n",
      "* vector dot products;\n",
      "* vector projection using the dot product.\n",
      "\n",
      "You will not need to understand complex numbers in any depth."
     ]
    },
    {
     "cell_type": "markdown",
     "metadata": {},
     "source": [
      "### Some actual numbers to start"
     ]
    },
    {
     "cell_type": "markdown",
     "metadata": {},
     "source": [
      "Let us start with a DFT of some data:"
     ]
    },
    {
     "cell_type": "code",
     "collapsed": false,
     "input": [
      "# An example input vector\n",
      "x = np.array(\n",
      "    [ 0.4967, -0.1383,  0.6477,  1.523 , -0.2342, -0.2341,  1.5792,\n",
      "      0.7674, -0.4695,  0.5426, -0.4634, -0.4657,  0.242 , -1.9133,\n",
      "     -1.7249, -0.5623, -1.0128,  0.3142, -0.908 , -1.4123,  1.4656,\n",
      "     -0.2258,  0.0675, -1.4247, -0.5444,  0.1109, -1.151 ,  0.3757,\n",
      "     -0.6006, -0.2917, -0.6017,  1.8523])\n",
      "N = 32  # the length of the time-series\n",
      "plt.plot(x)"
     ],
     "language": "python",
     "metadata": {},
     "outputs": []
    },
    {
     "cell_type": "code",
     "collapsed": false,
     "input": [
      "# Now the DFT\n",
      "X = np.fft.fft(x)\n",
      "X"
     ],
     "language": "python",
     "metadata": {},
     "outputs": []
    },
    {
     "cell_type": "markdown",
     "metadata": {},
     "source": [
      "Notice that `X` - the output of the forward DFT - is a vector of complex numbers. We will go into this in detail later."
     ]
    },
    {
     "cell_type": "markdown",
     "metadata": {},
     "source": [
      "When we do the inverse DFT on `X` we return the original values of our input `x`, but as complex numbers with imaginary part 0:"
     ]
    },
    {
     "cell_type": "code",
     "collapsed": false,
     "input": [
      "# Apply the inverse DFT to the output of the forward DFT \n",
      "x_back = np.fft.ifft(X)\n",
      "x_back"
     ],
     "language": "python",
     "metadata": {},
     "outputs": []
    },
    {
     "cell_type": "markdown",
     "metadata": {},
     "source": [
      "### Some notation"
     ]
    },
    {
     "cell_type": "markdown",
     "metadata": {},
     "source": [
      "We will use $\\triangleq$ to mean \"is defined as\".  For example, read:\n",
      "\n",
      "$$\n",
      "i \\triangleq \\sqrt{-1}\n",
      "$$\n",
      "\n",
      "as \"$i$ is defined as the square root of -1.\"\n",
      "\n",
      "$\\in$ means \"in\" or \"one of\".  For example:\n",
      "\n",
      "$$\n",
      "k \\in 0, 2, 4\n",
      "$$\n",
      "\n",
      "means that the value $k$ can take any of the three values 0, 2 or 4.\n",
      "\n",
      "$\\notin$ means \"not in\" or \"not one of\".  For example:\n",
      "\n",
      "$$\n",
      "k \\notin 1, 3, 5\n",
      "$$\n",
      "\n",
      "means that the value $k$ can *not* take any of the three values 1, 3 or 5, but, all other things being equal, can take any other value.\n",
      "\n",
      "We write a *vector* of numbers $[v_0, v_1, ... v_{N}]$ as $\\vec{v}$."
     ]
    },
    {
     "cell_type": "markdown",
     "metadata": {},
     "source": [
      "### DFT and FFT"
     ]
    },
    {
     "cell_type": "markdown",
     "metadata": {},
     "source": [
      "The fast fourier transform (FFT) refers to a particular set of - er - fast algorithms for calculating the DFT.  It is common, but confusing, to use \"FFT\" to mean DFT.  In fact you have already seen than numpy uses `fft` to refer to the DFT."
     ]
    },
    {
     "cell_type": "markdown",
     "metadata": {},
     "source": [
      "### Introducing the discrete Fourier transform"
     ]
    },
    {
     "cell_type": "markdown",
     "metadata": {},
     "source": [
      "Let us say we have a vector of $N$ values in time, or space $\\vec{x} = [x_0, x_1 ... x_{N-1}]$.  We generally index $\\vec{x}$ with subscript $n$, so the sample at index $n$ is $x_n$.\n",
      "\n",
      "The DFT converts $\\vec{x}$ from a vector in time, or space, to a vector $\\vec{X}$ representing temporal or spatial frequency components.\n",
      "\n",
      "We will call our original $\\vec{x}$ the *signal*, meaning, the signal not transformed to frequency.\n",
      "\n",
      "The DFT converts $\\vec{x}$ to $\\vec{X}$ where $\\vec{X} = [X_0, X_1, ... X_{N-1}]$.  We generally index $\\vec{X}$ with subscript $k$, so the sample at index $k$ is $X_k$.\n",
      "\n",
      "Here is the equation for the discrete Fourier transform:\n",
      "\n",
      "$$\n",
      "X_k = \\sum_{n=0}^{N-1} x_n \\; e^{-i 2 \\pi \\frac{k}{N} n}\n",
      "$$\n",
      "\n",
      "This is the transform from signal to frequency.  We will call this the *forward* Fourier transform.\n",
      "\n",
      "Here is the equation for the inverse Fourier transform:\n",
      "\n",
      "$$\n",
      "x_n = \\frac{1}{N} \\sum_{k=0}^{N-1} X_k \\; e^{i 2 \\pi \\frac{k}{N} n}\n",
      "$$\n",
      "\n",
      "The inverse Fourier transform converts from frequency back to signal."
     ]
    },
    {
     "cell_type": "markdown",
     "metadata": {},
     "source": [
      "### Scrubbing the $e^i$"
     ]
    },
    {
     "cell_type": "markdown",
     "metadata": {},
     "source": [
      "The forward and inverse equations are very similar; both share a term $e^{iq}$, where $q = -2 \\pi \\frac{k}{N} n$ for the forward transform; $q = 2 \\pi \\frac{k}{N} n$ for the inverse transform."
     ]
    },
    {
     "cell_type": "markdown",
     "metadata": {},
     "source": [
      "Some people are used to looking at the form $e^{iq}$ and thinking \"aha, that's a rotation around a circle\".  Apparently this is an intuition that builds up over time working with these sorts of equations."
     ]
    },
    {
     "cell_type": "markdown",
     "metadata": {},
     "source": [
      "Unfortunately, some of us find it hard to think in complex exponentials, or in terms of complex numbers.\n",
      "\n",
      "So, in this tutorial, we will express the Fourier transform in terms of $\\sin$ and $\\cos$.  We will be using complex numbers, but almost entirely as a pair of numbers to represent two components of the same thing, rather than a single number with a real and imaginary part.\n",
      "\n",
      "Having said that, we will need some very basic properties of complex and imaginary numbers."
     ]
    },
    {
     "cell_type": "markdown",
     "metadata": {},
     "source": [
      "### Lightning refresher on complex numbers"
     ]
    },
    {
     "cell_type": "markdown",
     "metadata": {},
     "source": [
      "$\\newcommand{R}[1]{\\operatorname{Re}\\,(#1)}\\newcommand{I}[1]{\\operatorname{Im}\\,(#1)}$\n",
      "First we remember that $i$ is the *imaginary unit*.  $i$ is the imaginary number such that:\n",
      "\n",
      "$$\n",
      "i \\triangleq \\sqrt{-1}\n",
      "$$\n",
      "\n",
      "Therefore:\n",
      "\n",
      "$$\n",
      "i^2 = -1\n",
      "$$\n",
      "\n",
      "Engineers often write the imaginary unit as $j$, and that is the convention that Python uses:"
     ]
    },
    {
     "cell_type": "code",
     "collapsed": false,
     "input": [
      "1j * 1j"
     ],
     "language": "python",
     "metadata": {},
     "outputs": []
    },
    {
     "cell_type": "markdown",
     "metadata": {},
     "source": [
      "An imaginary number is a real number multiplied by the imaginary unit.  For example $3i$ is an imaginary number."
     ]
    },
    {
     "cell_type": "markdown",
     "metadata": {},
     "source": [
      "A *complex* number is a number that has a *real* part and an *imaginary* part.  The real part is a real number.  The imaginary part is an imaginary number.\n",
      "\n",
      "For example, consider the complex number $a = (4 + 3i)$.  $a$ has two parts.  The first is a real number, often written as $\\R{a}$, and the second is an imaginary number $\\I{a}$:\n",
      "\n",
      "$$\n",
      "\\R{a} = 4 \\\\\n",
      "\\I{a} = 3i\n",
      "$$\n",
      "\n",
      "Now consider the complex number $c = (p + qi)$.  $\\R{c} = p, \\I{c} = qi$.\n",
      "\n",
      "To multiply a complex number $c$ by a real number $r$, we multiply both real and imaginary parts by the real number:\n",
      "\n",
      "$$\n",
      "r (p + qi) = (rp + rqi)\n",
      "$$"
     ]
    },
    {
     "cell_type": "code",
     "collapsed": false,
     "input": [
      "a = (4 + 3j)\n",
      "2 * a"
     ],
     "language": "python",
     "metadata": {},
     "outputs": []
    },
    {
     "cell_type": "markdown",
     "metadata": {},
     "source": [
      "Multiplying a complex number by an imaginary number follows the same logic, but remembering that $i^2 = -1$. Let us say $s i$ is our imaginary number:\n",
      "\n",
      "$$\n",
      "si (p + qi) = (s i p + s i q i) \\\\\n",
      "= (s p i + s q i^2) \\\\\n",
      "= (s p i - s q) \\\\\n",
      "= (-s q + s p i)\n",
      "$$"
     ]
    },
    {
     "cell_type": "code",
     "collapsed": false,
     "input": [
      "3j * a"
     ],
     "language": "python",
     "metadata": {},
     "outputs": []
    },
    {
     "cell_type": "markdown",
     "metadata": {},
     "source": [
      "### Back to scrubbing the $e^i$"
     ]
    },
    {
     "cell_type": "markdown",
     "metadata": {},
     "source": [
      "Our first tool in this enterprise is Euler's formula:\n",
      "\n",
      "$$\n",
      "e^{ix} = \\cos x + i\\sin x\n",
      "$$"
     ]
    },
    {
     "cell_type": "markdown",
     "metadata": {},
     "source": [
      "This is the basis for thinking of $e^{iq}$ as being rotation around a circle, of which you will hear no more in this page.  In our case, it allows us to rewrite the forward and inverse Fourier transforms:\n",
      "\n",
      "$$\n",
      "q \\triangleq 2 \\pi \\frac{k}{N} n \\\\\n",
      "X_k = \\sum_{n=0}^{N-1} x_n \\cdot \\cos(-q) + i \\sum_{n=0}^{N-1} x_n \\cdot \\sin(-q) \\\\\n",
      "x_n = \\frac{1}{N} \\sum_{k=0}^{N-1} X_k \\cdot \\cos(q) + i \\frac{1}{N} \\sum_{k=0}^{N-1} X_k \\cdot \\sin(q)\n",
      "$$"
     ]
    },
    {
     "cell_type": "markdown",
     "metadata": {},
     "source": [
      "We can simplify this a bit further, because, for any $a$:\n",
      "\n",
      "$$\n",
      "\\cos(-a) = cos(a) \\\\\n",
      "\\sin(-a) = -sin(a)\n",
      "$$"
     ]
    },
    {
     "cell_type": "markdown",
     "metadata": {},
     "source": [
      "$$\n",
      "X_k = \\sum_{n=0}^{N-1} x_n \\cdot \\cos(q) - i \\sum_{n=0}^{N-1} x_n \\cdot \\sin(q) \\\\\n",
      "x_n = \\frac{1}{N} \\sum_{k=0}^{N-1} X_k \\cdot \\cos(q) + i \\frac{1}{N} \\sum_{k=0}^{N-1} X_k \\cdot \\sin(q)\n",
      "$$"
     ]
    },
    {
     "cell_type": "markdown",
     "metadata": {},
     "source": [
      "### Rewriting as dot products"
     ]
    },
    {
     "cell_type": "markdown",
     "metadata": {},
     "source": [
      "We can simplify the notation, and maybe make the process clearer, by rewriting these sums in terms of dot products.\n",
      "\n",
      "As y'all remember, the dot product of two length $N$ vectors $\\vec{v}, \\vec{w}$ is given by:\n",
      "\n",
      "$$\n",
      "\\vec{v} \\cdot \\vec{w} \\triangleq \\sum_{i=0}^{N-1} v_i w_i\n",
      "$$\n",
      "\n",
      "Clearly, because $v_i w_i = w_i v_i$:\n",
      "\n",
      "$$\n",
      "\\vec{v} \\cdot \\vec{w} = \\vec{w} \\cdot \\vec{v}\n",
      "$$\n",
      "\n",
      "For the moment, let us concentrate on the forward transform.\n",
      "\n",
      "$$\n",
      "\\vec{t_k} \\triangleq \\left[ k 2 \\pi \\frac{n}{N} \\;\\mathrm{for}\\; n \\in 0,1,\\ldots,N-1 \\right] \\\\\n",
      "\\vec{c_k} \\triangleq \\left[ \\cos(t_{k,n}) \\;\\mathrm{for}\\; n \\in 0,1,\\ldots,N-1 \\right] \\\\\n",
      "\\vec{s_k} \\triangleq \\left[ \\sin(t_{k,n}) \\;\\mathrm{for}\\; n \\in 0,1,\\ldots,N-1 \\right]\n",
      "$$\n",
      "\n",
      "Now we can rewrite the sums in the forward transform as the sum of two dot products:\n",
      "\n",
      "$$  \n",
      "X_k = \\vec{x} \\cdot \\vec{c_k} - i \\vec{x} \\cdot \\vec{s_k}\n",
      "$$"
     ]
    },
    {
     "cell_type": "markdown",
     "metadata": {},
     "source": [
      "The vector $\\vec{t_k}$ is key to understanding what is going on.  $t_k$ sets up the horizontal axis values to sample a $\\sin$ or $\\cos$ function so the function gives us $k$ cycles over the indices $0 .. N-1$.\n",
      "\n",
      "In the formulae above, $n / N$ is the proportion of the whole signal width $N$, so it varies between 0 and $(N-1) / N$.  The $2 \\pi$ corresponds to one cycle of the cosine or sine function.\n",
      "\n",
      "So, $\\vec{t_0}$ gives a vector of zeros corresponding to $k=0$ cycles across $0 ... N-1$.  $\\vec{t_1}$ gives us $0$ up to (not including) $2 \\pi$ - one cycle across the indices $0 .. N-1$.  $\\vec{t_2}$ gives us $0$ up to (not including) $4 \\pi$ - two cycles."
     ]
    },
    {
     "cell_type": "markdown",
     "metadata": {},
     "source": [
      "Here are some plots of $\\vec{c_k}$, $\\vec{s_k}$ for $k \\in 0, 1, 2, 3, 4, 5$:"
     ]
    },
    {
     "cell_type": "code",
     "collapsed": false,
     "input": [
      "fig, axes = plt.subplots(6, 1, figsize=(8, 5))\n",
      "one_cycle = 2 * np.pi * np.arange(N) / N\n",
      "for k in range(6):\n",
      "    t_k = k * one_cycle\n",
      "    axes[k].plot(ns, np.cos(t_k), label='cos')\n",
      "    axes[k].plot(ns, np.sin(t_k), label='sin')\n",
      "    axes[k].set_xlim(0, N-1)\n",
      "    axes[k].set_ylim(-1.1, 1.1)\n",
      "axes[0].legend()\n",
      "plt.tight_layout()"
     ],
     "language": "python",
     "metadata": {},
     "outputs": []
    },
    {
     "cell_type": "markdown",
     "metadata": {},
     "source": [
      "To rephrase: $\\vec{c_k}, \\vec{s_k}$ are cosine / sine waves with $k$ cycles over the $N$ indices.\n",
      "\n",
      "So, the $X_k$ value is the dot product of the $\\vec{x}$ with a cosine wave of $k$ cycles minus $i$ times the dot product of $\\vec{x}$ with the sine wave of $k$ cycles."
     ]
    },
    {
     "cell_type": "markdown",
     "metadata": {},
     "source": [
      "While this is all fresh in our minds, let us fill out the equivalent notation for the inverse transform. \n",
      "\n",
      "$$\n",
      "\\vec{t_n} \\triangleq \\left[ n 2 \\pi \\frac{k}{N} \\;\\mathrm{for}\\; k \\in =0,1,\\ldots,N-1 \\right] \\\\\n",
      "\\vec{c_n} \\triangleq \\left[ \\cos(t_{n,k}) \\;\\mathrm{for}\\; k \\in 0,1,\\ldots,N-1 \\right] \\\\\n",
      "\\vec{s_n} \\triangleq \\left[ \\sin(t_{n,k}) \\;\\mathrm{for}\\; k \\in 0,1,\\ldots,N-1 \\right]\n",
      "$$\n",
      "\n",
      "Because both $n$ and $k$ have indices from $0 .. N-1$:\n",
      "$$\n",
      "\\vec{t_k} = \\vec{t_n} \\;\\mathrm{where}\\; k=n \\\\\n",
      "\\vec{c_k} = \\vec{c_n} \\;\\mathrm{where}\\; k=n \\\\\n",
      "\\vec{s_k} = \\vec{s_n} \\;\\mathrm{where}\\; k=n\n",
      "$$\n",
      "\n",
      "We will return to this point fairly soon."
     ]
    },
    {
     "cell_type": "markdown",
     "metadata": {},
     "source": [
      "The inverse transform is now:\n",
      "\n",
      "$$\n",
      "x_n = \\frac{1}{N} \\vec{X} \\cdot \\vec{c_n} + i \\frac{1}{N} \\vec{X} \\cdot \\vec{s_n}\n",
      "$$"
     ]
    },
    {
     "cell_type": "markdown",
     "metadata": {},
     "source": [
      "### Rewriting the DFT with cosine and sine basis matrices"
     ]
    },
    {
     "cell_type": "markdown",
     "metadata": {},
     "source": [
      "Instead of writing the formulae for the individual elements $X_k$ and $x_n$, we can use matrices to express our formulae in terms of the vectors $\\vec{X}, \\vec{x}$."
     ]
    },
    {
     "cell_type": "markdown",
     "metadata": {},
     "source": [
      "$\\newcommand{C}{\\mathbf{C}} \\newcommand{S}{\\mathbf{S}}$\n",
      "Define a matrix $\\C$ that has rows $[\\vec{c_0}, \\vec{c_1}, ..., \\vec{c_{N-1}}]$:\n",
      "\n",
      "$$\n",
      "\\C \\triangleq\n",
      " \\begin{bmatrix}\n",
      "    c_{0,0}, c_{0, 1}, ..., c_{0, N-1} \\\\\n",
      "    c_{1,0}, c_{1, 1}, ..., c_{1, N-1} \\\\\n",
      "    ... \\\\\n",
      "    c_{N-1,0}, c_{N-1, 1}, ..., c_{N-1, N-1} \\\\\n",
      " \\end{bmatrix}\n",
      "$$\n",
      "\n",
      "Call $\\C$ the *cosine basis matrix*.\n",
      "\n",
      "Define a matrix $\\S$ that has rows $[\\vec{s_0}, \\vec{s_1}, ..., \\vec{s_{N-1}}]$:\n",
      "\n",
      "$$\n",
      "\\S \\triangleq\n",
      " \\begin{bmatrix}\n",
      "    s_{0,0}, s_{0, 1}, ..., s_{0, N-1} \\\\\n",
      "    s_{1,0}, s_{1, 1}, ..., s_{1, N-1} \\\\\n",
      "    ... \\\\\n",
      "    s_{N-1,0}, s_{N-1, 1}, ..., s_{N-1, N-1} \\\\\n",
      " \\end{bmatrix}\n",
      "$$\n",
      "\n",
      "Call $\\S$ the *sine basis matrix*."
     ]
    },
    {
     "cell_type": "markdown",
     "metadata": {},
     "source": [
      "Now we can rewrite the forward and inverse DFT as matrix products:\n",
      "\n",
      "$$\n",
      "\\vec{X} = \\C \\cdot \\vec{x} - i \\S \\cdot \\vec{x} \\\\\n",
      "\\vec{x} = \\frac{1}{N} \\C \\cdot \\vec{X} + i \\frac{1}{N} \\S \\cdot \\vec{X}\n",
      "$$\n",
      "\n",
      "This gives us the same calculation for $X_k$ and $x_n$ as we have above using the vector dot products.  Write row $k$ of $\\C$ as $C_{k,:}$. Row $k$ of $\\S$ is $S_{k,:}$.  Thus, from the rules of matrix multiplication:\n",
      "\n",
      "$$\n",
      "X_k = C_{k,:} \\cdot \\vec{x} - i S_{k,:} \\cdot \\vec{x} \\\\\n",
      "= \\vec{x} \\cdot \\vec{c_k} - i \\vec{x} \\cdot \\vec{s_k}\n",
      "$$\n",
      "\n",
      "and (inverse transform):\n",
      "\n",
      "$$\n",
      "x_n = \\frac{1}{N} C_{n,:} \\cdot \\vec{X} + i \\frac{1}{N} S_{n,:} \\cdot \\vec{X} \\\\\n",
      "= \\frac{1}{N} \\vec{X} \\cdot \\vec{c_n} + i \\frac{1}{N} \\vec{X} \\cdot \\vec{s_n}\n",
      "$$"
     ]
    },
    {
     "cell_type": "markdown",
     "metadata": {},
     "source": [
      "Let us build up these matrices for our case with $N=32$:"
     ]
    },
    {
     "cell_type": "code",
     "collapsed": false,
     "input": [
      "C = np.zeros((N, N))\n",
      "S = np.zeros((N, N))\n",
      "ns = np.arange(N)\n",
      "for k in range(N):\n",
      "    t_k = k * 2* np.pi * ns / N\n",
      "    C[k, :] = np.cos(t_k)\n",
      "    S[k, :] = np.sin(t_k)"
     ],
     "language": "python",
     "metadata": {},
     "outputs": []
    },
    {
     "cell_type": "markdown",
     "metadata": {},
     "source": [
      "We get the same result using this matrix formula, as we do using the canned DFT:"
     ]
    },
    {
     "cell_type": "code",
     "collapsed": false,
     "input": [
      "# Recalculate the forward transform with C and S\n",
      "X_again = C.dot(x) - 1j * S.dot(x)\n",
      "assert np.allclose(X, X_again)  # same result as for np.fft.fft\n",
      "# Recalculate the inverse transform\n",
      "x_again = 1. / N * C.dot(X) + 1j / N * S.dot(X)\n",
      "assert np.allclose(x, x_again)  # as for np.fft.ifft, we get x back"
     ],
     "language": "python",
     "metadata": {},
     "outputs": []
    },
    {
     "cell_type": "markdown",
     "metadata": {},
     "source": [
      "### Displaying the DFT transform"
     ]
    },
    {
     "cell_type": "markdown",
     "metadata": {},
     "source": [
      "We can show the matrix calculation of the DFT as images.   To do this we will use some specialized code.  If you are running this notebook yourself, download [dft_plots.py](dft_plots.py) to the directory containing the notebook."
     ]
    },
    {
     "cell_type": "code",
     "collapsed": false,
     "input": [
      "# Import the custom DFT plotting code for this notebook\n",
      "import dft_plots as dftp"
     ],
     "language": "python",
     "metadata": {},
     "outputs": []
    },
    {
     "cell_type": "markdown",
     "metadata": {},
     "source": [
      "Here we show the forward DFT given by the formula:\n",
      "\n",
      "$$\n",
      "\\vec{X} = \\C \\cdot \\vec{x} - i \\S \\cdot \\vec{x} \n",
      "$$"
     ]
    },
    {
     "cell_type": "code",
     "collapsed": false,
     "input": [
      "# Show image sketch for forward DFT\n",
      "sketch = dftp.DFTSketch(x)\n",
      "sketch.sketch(figsize=(12, 5))"
     ],
     "language": "python",
     "metadata": {},
     "outputs": []
    },
    {
     "cell_type": "markdown",
     "metadata": {},
     "source": [
      "The plot shows each matrix and vector as grayscale, where mid gray corresponds to 0, black corresponds to the most negative value and white to the most positive value.  For example the first four values in the vector $\\vec{x}$ are:"
     ]
    },
    {
     "cell_type": "code",
     "collapsed": false,
     "input": [
      "x[:4]"
     ],
     "language": "python",
     "metadata": {},
     "outputs": []
    },
    {
     "cell_type": "markdown",
     "metadata": {},
     "source": [
      "You can see $\\vec{x}$ shown at the right of the graphic as a column vector.  The grayscale of the top four values in the graphic are light gray, mid gray, light gray, and near white, corresponding to the values above."
     ]
    },
    {
     "cell_type": "markdown",
     "metadata": {},
     "source": [
      "$\\vec{X}$ is a vector of complex numbers.\n",
      "\n",
      "On the left of the equals sign you see the complex vector $\\vec{X}$ displayed as two columns.\n",
      "\n",
      "Define $\\R{\\vec{X}}$ to be the vector containing the real parts of the complex values in $\\vec{X}$.  Define $\\I{\\vec{X}}$ to be the vector containing the imaginary parts of $\\vec{X}$:\n",
      "\n",
      "$$\n",
      "\\R{\\vec{X}} \\triangleq [\\R{X_0}, \\R{X_1}, ..., \\R{X_{N-1}}] \\\\\n",
      "\\I{\\vec{X}} \\triangleq [\\I{X_0}, \\I{X_1}, ..., \\I{X_{N-1}}]\n",
      "$$\n",
      "\n",
      "The left hand column in the graphic shows $\\R{\\vec{X}}$, and the column to the right of that shows $\\I{\\vec{X}}$.\n",
      "\n",
      "To the right of the equals sign we see the representation of $\\C \\cdot \\vec{x}$ and $\\S \\cdot \\vec{x}$, with $\\vec{x}$ displayed as a column vector.\n",
      "\n",
      "$\\C$ and $\\S$ have some interesting patterns which we will explore in the next section."
     ]
    },
    {
     "cell_type": "markdown",
     "metadata": {},
     "source": [
      "We can show the inverse DFT in the same way:\n",
      "\n",
      "$$\n",
      "\\vec{x} = \\frac{1}{N} \\C \\cdot \\vec{X} + i \\frac{1}{N} \\S \\cdot \\vec{X}\n",
      "$$"
     ]
    },
    {
     "cell_type": "code",
     "collapsed": false,
     "input": [
      "sketch.sketch(inverse=True, figsize=(12, 5))"
     ],
     "language": "python",
     "metadata": {},
     "outputs": []
    },
    {
     "cell_type": "markdown",
     "metadata": {},
     "source": [
      "The output from the inverse transform is a complex vector, but in our case, where the input to the DFT was a vector of real numbers, the imaginary parts are all zero, and the real part is equal to our input to the forward DFT : $\\vec{x}$.  We will see why the imaginary parts are all zero in the following sections."
     ]
    },
    {
     "cell_type": "markdown",
     "metadata": {},
     "source": [
      "### Real and complex input to the DFT"
     ]
    },
    {
     "cell_type": "markdown",
     "metadata": {},
     "source": [
      "This page is mostly concerned with the common case where the input to the forward DFT is a vector of real numbers.  The mathematics also works for the case where the input to the forward DFT is a vector of complex numbers:"
     ]
    },
    {
     "cell_type": "code",
     "collapsed": false,
     "input": [
      "complex_x = np.array(  # A Random array of complex numbers\n",
      "      [ 0.61-0.83j, -0.82-0.12j, -0.50+1.14j,  2.37+1.67j,  1.62+0.69j,\n",
      "        1.61-0.06j,  0.54-0.73j,  0.89-1.j  ,  0.17-0.71j,  0.75-0.01j,\n",
      "       -1.06-0.14j, -2.53-0.33j,  1.74+0.83j,  1.34-0.64j,  1.47+0.71j,\n",
      "        0.82+0.4j , -1.59-0.58j,  0.13-1.02j,  0.47-0.73j,  1.45+1.31j,\n",
      "        1.32-0.28j,  1.58-2.13j,  0.75-0.43j,  1.24+0.4j ,  0.02+1.08j,\n",
      "        0.07-0.57j, -1.21+1.08j,  1.38+0.54j, -1.35+0.3j , -0.61+1.08j,\n",
      "       -0.96+1.81j, -1.95+1.64j])\n",
      "complex_X = np.fft.fft(complex_x)  # Canned DFT\n",
      "complex_X_again = C.dot(complex_x) - 1j * S.dot(complex_x)  # Our DFT\n",
      "# We get the same result as the canned DFT\n",
      "assert np.allclose(complex_X, complex_X_again)"
     ],
     "language": "python",
     "metadata": {},
     "outputs": []
    },
    {
     "cell_type": "markdown",
     "metadata": {},
     "source": [
      "The sketch of the complex forward DFT looks like this:"
     ]
    },
    {
     "cell_type": "code",
     "collapsed": false,
     "input": [
      "sketch = dftp.DFTSketch(complex_x)\n",
      "sketch.sketch(figsize=(12, 5))\n",
      "sketch.title('Forward DFT for complex input vector')"
     ],
     "language": "python",
     "metadata": {},
     "outputs": []
    },
    {
     "cell_type": "markdown",
     "metadata": {},
     "source": [
      "The input $\\vec{x}$ vectors following $\\C$ and $\\S$ are now complex, with a real and a complex column for the real and complex vectors in $\\vec{x}$.\n",
      "\n",
      "For what follows, unless we say otherwise, we will always be talking about real number input to the DFT."
     ]
    },
    {
     "cell_type": "markdown",
     "metadata": {},
     "source": [
      "## Some properties of the cosine and sine basis matrices"
     ]
    },
    {
     "cell_type": "markdown",
     "metadata": {},
     "source": [
      "First we note that $\\C$ and $\\S$ are always real matrices, regardless of the input $\\vec{x}$ or $\\vec{X}$."
     ]
    },
    {
     "cell_type": "markdown",
     "metadata": {},
     "source": [
      "Let's show $\\C$ and $\\S$ as grayscale images again:"
     ]
    },
    {
     "cell_type": "code",
     "collapsed": false,
     "input": [
      "fig, axes = plt.subplots(1, 2)\n",
      "axes[0].imshow(C)\n",
      "axes[0].set_title('cosine basis matrix')\n",
      "axes[1].imshow(S)\n",
      "axes[1].set_title('sine basis matrix')"
     ],
     "language": "python",
     "metadata": {},
     "outputs": []
    },
    {
     "cell_type": "markdown",
     "metadata": {},
     "source": [
      "We see that the bottom half of $\\C$ looks like a mirror image of the top half of $\\C$.  The bottom half of $\\S$ looks like a sign flipped (black $\\Leftrightarrow$ white) mirror image of the top half of $\\S$.  In fact this is correct:\n",
      "\n",
      "$$\n",
      "C_{i,:} = C_{N-i,:} \\; \\mathrm{for} \\; i > 0 \\\\\n",
      "S_{i,:} = -S_{N-i,:} \\; \\mathrm{for} \\; i > 0\n",
      "$$"
     ]
    },
    {
     "cell_type": "markdown",
     "metadata": {},
     "source": [
      "Why is this?  Let's look at lines from the center of $\\C$.  Here we are plotting the continuous cosine function with dotted lines, with filled circles to represent the discrete samples we took to fill the row of $\\C$:"
     ]
    },
    {
     "cell_type": "code",
     "collapsed": false,
     "input": [
      "center_rows = [N / 2. - 1, N / 2., N / 2. + 1]\n",
      "fig = dftp.plot_cs_rows('C', N, center_rows)\n",
      "fig.suptitle('Rows $N / 2 - 1$ through $N / 2 + 1$ of $\\mathbf{C}$',\n",
      "             fontsize=20)"
     ],
     "language": "python",
     "metadata": {},
     "outputs": []
    },
    {
     "cell_type": "markdown",
     "metadata": {},
     "source": [
      "The first plot in this grid is for row $k = N / 2 - 1$.  This row starts sampling just before the peak and trough of the cosine.\n",
      "In the center is row $k = N / 2$ of $\\C$.  This is sampling the cosine wave exactly at the peak and trough.  When we get to next row, at $k = N / 2 + 1$, we start sampling after the peak and trough of the cosine, and these samples are identical to the samples just before the peak and trough, at row $k = N / 2 - 1$.  Row $k = N / 2$ is sampling at the Nyquist sampling frequency, and row $k = N / 2 + 1$ is sampling at a frequency lower than Nyquist and therefore it is being *aliased* to the same apparent frequency as row $k = N / 2 - 1$."
     ]
    },
    {
     "cell_type": "markdown",
     "metadata": {},
     "source": [
      "This might be more obvious plotting rows 1 and N-1 of $\\C$:"
     ]
    },
    {
     "cell_type": "code",
     "collapsed": false,
     "input": [
      "fig = dftp.plot_cs_rows('C', N, [1, N-1])\n",
      "fig.suptitle('Rows $1$ and $N - 1$ of $\\mathbf{C}$',\n",
      "             fontsize=20)"
     ],
     "language": "python",
     "metadata": {},
     "outputs": []
    },
    {
     "cell_type": "markdown",
     "metadata": {},
     "source": [
      "Of course we get the same kind of effect for $\\S$:"
     ]
    },
    {
     "cell_type": "code",
     "collapsed": false,
     "input": [
      "fig = dftp.plot_cs_rows('S', N, center_rows)\n",
      "fig.suptitle('Rows $N / 2 - 1$ through $N / 2 + 1$ of $\\mathbf{S}$',\n",
      "             fontsize=20)"
     ],
     "language": "python",
     "metadata": {},
     "outputs": []
    },
    {
     "cell_type": "code",
     "collapsed": false,
     "input": [
      "fig = dftp.plot_cs_rows('S', N, [1, N-1])\n",
      "fig.suptitle('Rows $1$ and $N - 1$ of $\\mathbf{S}$',\n",
      "             fontsize=20)"
     ],
     "language": "python",
     "metadata": {},
     "outputs": []
    },
    {
     "cell_type": "markdown",
     "metadata": {},
     "source": [
      "Notice that for $\\S$, the sine waves after $k = N / 2$ are sign-flipped relative to their matching rows before $k = N / 2$.  Thus row $k = N / 2 + 1$ will be aliased to the same frequency as for row $k = N / 2 - 1$, but with a negative sign.\n",
      "\n",
      "It is this sign-flip that leads to the concept of *negative frequency* in the DFT, and to the property of *conjugate symmetry* from the DFT on a vector of real numbers.  We will hear more about these later."
     ]
    },
    {
     "cell_type": "markdown",
     "metadata": {},
     "source": [
      "The next thing we notice about $\\C$ and $\\S$ is that they are *symmetric*:\n",
      "\n",
      "$$\n",
      "\\C = \\C^T \\\\\n",
      "\\S = \\S^T \\\\\n",
      "$$"
     ]
    },
    {
     "cell_type": "code",
     "collapsed": false,
     "input": [
      "assert np.allclose(C, C.T)\n",
      "assert np.allclose(S, S.T)"
     ],
     "language": "python",
     "metadata": {},
     "outputs": []
    },
    {
     "cell_type": "markdown",
     "metadata": {},
     "source": [
      "Why is this?  Consider the first *column* of $\\C$.  This is given by $\\cos(k 2 \\pi 0 / N) = \\cos(0)$, and thus, like the first *row* of $\\C$, is always = 1.  \n",
      "\n",
      "Now consider the second row of $\\C$.  This is a cosine sampled at horizontal axis values:\n",
      "\n",
      "$$\n",
      "\\vec{t_1} \\triangleq \\left[ 2 \\pi \\frac{n}{N} \\;\\mathrm{for}\\; n \\in 0,1,\\ldots,N-1 \\right]\n",
      "$$\n",
      "\n",
      "Call $t_{k, n}$ the value of $\\vec{t_k}$ at index $n$.  Now consider the second *column* of $\\C$.  This is a cosine sampled at horizontal axis values for $n = 1$:\n",
      "\n",
      "$$\n",
      "t_{0,1} = (0) 2 \\pi \\frac{1}{N} \\\\\n",
      "t_{1,1} = (1) 2 \\pi \\frac{1}{N} \\\\\n",
      "... \\\\\n",
      "t_{N-1,1} = (N-1) 2 \\pi \\frac{1}{N} \\\\\n",
      "$$\n",
      "\n",
      "In general, because the sequence $k \\in 0,1,\\ldots,N-1 $ is equal to the sequence $n \\in 0,1,\\ldots,N-1$, this means that the column sampling positions for row $n \\in t_{0, n}, t_{1, n}, ... , t_{N-1, n}$ are equal to the row sampling positions for corresponding ($k = n$) row $k \\in t_{k, 0}, t_{k, 1}, ... , t_{k, N-1}$.  Write column $z$ of $\\C$ as $C_{:,z}$; column $z$ of $\\S$ is $S_{:, z}$.  Therefore $C_{z, :} = C_{:, z}, S_{z, :} = S_{:, z}$."
     ]
    },
    {
     "cell_type": "markdown",
     "metadata": {},
     "source": [
      "Last, let us look at the vector lengths of each row (therefore each column) of $\\C$, $\\S$.\n",
      "\n",
      "The vector length of a vector $\\vec{v}$ with N elements is written as $\\| \\vec{v} \\|$, and defined as:\n",
      "\n",
      "$$\n",
      "\\| \\vec{v} \\| \\triangleq \\sqrt{\\sum_{n=0}^{N-1} v_n^2}\n",
      "= \\sqrt{ \\vec{v} \\cdot \\vec{v} }\n",
      "$$\n",
      "\n",
      "In fact, for convenience, let's look at the squared lengths:"
     ]
    },
    {
     "cell_type": "code",
     "collapsed": false,
     "input": [
      "C_row_sq_len = np.sum(C ** 2, axis=1)  # sum over rows\n",
      "print('C row squared vector lengths')\n",
      "C_row_sq_len"
     ],
     "language": "python",
     "metadata": {},
     "outputs": []
    },
    {
     "cell_type": "code",
     "collapsed": false,
     "input": [
      "S_row_sq_len = np.sum(S ** 2, axis=1)  # sum over rows\n",
      "print('S row squared vector lengths')\n",
      "S_row_sq_len"
     ],
     "language": "python",
     "metadata": {},
     "outputs": []
    },
    {
     "cell_type": "markdown",
     "metadata": {},
     "source": [
      "In this case, the rows of $C$ have squared length $\\frac{N}{2} = 16$, except row $k = 0, k = N / 2$, which both have squared length $N = 32$. \n",
      "\n",
      "The rows of $C$ also have squared length $\\frac{N}{2} = 16$, except row $k = 0, k = N / 2$, which both have squared length 0."
     ]
    },
    {
     "cell_type": "markdown",
     "metadata": {},
     "source": [
      "It turns out that, for any $z, N$:\n",
      "\n",
      "$$\n",
      "\\| C_{z,:} \\|^2 = \\| C_{:,z} \\|^2 = N \\; \\mbox{if} \\; z \\in 0, N / 2\\\\\n",
      "\\| C_{z,:} \\|^2 = \\| C_{:,z} \\|^2= \\frac{N}{2} \\; \\mbox{otherwise}\n",
      "$$\n",
      "\n",
      "Similarly:\n",
      "\n",
      "$$\n",
      "\\| S_{z,:} \\|^2 = \\| S_{:,z} \\|^2 = 0 \\; \\mbox{if} \\; z \\in 0, N / 2\\\\\n",
      "\\| S_{z,:} \\|^2 = \\| S_{:,z} \\|^2= \\frac{N}{2} \\; \\mbox{otherwise}\n",
      "$$\n",
      "\n",
      "Why is this?"
     ]
    },
    {
     "cell_type": "markdown",
     "metadata": {},
     "source": [
      "To get a general formula for the vector lengths, we first rewrite the sum of squares of cosines in terms of a not-squared cosine.  Start with the formula for the squared vector length with the squared cosine:\n",
      "\n",
      "$$\n",
      "\\| C_{z,:} \\|^2 = \\| \\vec{c_k} \\|^2 = \\sum_{n=0}^{N-1} \\cos(k 2 \\pi n / N)^2\n",
      "$$\n",
      "\n",
      "Next we get a formula for $(\\cos \\theta)^2$ in terms of $\\cos \\theta$. From the angle sum formula:\n",
      "\n",
      "$$\n",
      "\\cos(2 \\theta) = (\\cos\\theta)^2 - (sin\\theta)^2\n",
      "$$\n",
      "\n",
      "From Pythagoras' theorem:\n",
      "\n",
      "$$\n",
      "\\cos(2 \\theta) = (\\cos\\theta)^2 - (1 - (\\cos\\theta)^2) \\\\\n",
      "= 2(\\cos\\theta)^2 - 1 \\implies \\\\\n",
      "(\\cos\\theta)^2 = \\frac{1 + \\cos(2 \\theta)}{2}\n",
      "$$\n",
      "\n",
      "With that result:\n",
      "\n",
      "$$\n",
      "\\| \\vec{c_k} \\|^2 = \\sum_{n=0}^{N-1} \\frac{1 + \\cos (4 k \\pi n / N)}{2} \\\\\n",
      "= \\frac{1}{2} \\sum_{n=0}^{N-1} (1 + \\cos (4 k \\pi n / N)) \\\\\n",
      "= \\frac{N}{2} + \\frac{1}{2} \\sum_{n=0}^{N-1} \\cos (4 k \\pi n / N)\n",
      "$$\n",
      "\n",
      "Now we can make use of the formula for the [arithmetic progression of cosines](sum_of_cosines.html):\n",
      "\n",
      "$$\n",
      "R \\triangleq \\frac{\\sin(Nd / 2)}{\\sin(d / 2)} \\\\\n",
      "\\sum_{n=0}^{N-1} \\cos(a + nd) = \n",
      "\\begin{cases}\n",
      "N \\cos a & \\text{if } \\sin(d / 2) = 0 \\\\\n",
      "R \\cos \\bigg ( a + \\frac{(N - 1) d}{2} \\bigg ) & \\text{otherwise}\n",
      "\\end{cases}\n",
      "$$\n",
      "\n",
      "For our case:\n",
      "\n",
      "$$\n",
      "a = 0 \\\\\n",
      "d = 4 k \\pi / N\n",
      "$$\n",
      "\n",
      "When $k \\in 0, N / 2$ then $\\sin(d / 2) = 0$ and \n",
      "\n",
      "$$\n",
      "\\sum_{n=0}^{N-1} \\cos (4 k \\pi n / N) = N \\cos 0 = N\n",
      "$$\n",
      "\n",
      "and\n",
      "\n",
      "$$\n",
      "\\| \\vec{c_k} \\|^2 = \\frac{N}{2} + \\frac{1}{2} N = N \\text{ if } k \\in 0, N/2\n",
      "$$\n",
      "\n",
      "\n",
      "For all other $k$, $\\sin(d / 2) = \\sin(2 k \\pi / N) \\ne 0$, but $\\sin(Nd / 2) = \\sin(2 k \\pi) = 0$, $R = 0$, and:\n",
      "\n",
      "$$\n",
      "\\sum_{n=0}^{N-1} \\cos (4 k \\pi n / N) = 0\n",
      "$$\n",
      "\n",
      "Therefore:\n",
      "\n",
      "$$\n",
      "\\| \\vec{c_k} \\|^2 = \\frac{N}{2} \\text{ if } k \\notin 0, N/2\n",
      "$$\n",
      "\n",
      "An almost identical argument applies for $\\| S_{z,:} \\|^2$."
     ]
    },
    {
     "cell_type": "markdown",
     "metadata": {},
     "source": [
      "### Introducing vector projection"
     ]
    },
    {
     "cell_type": "markdown",
     "metadata": {},
     "source": [
      "If you are not familiar with projection, I highly recommend the tutorials over at [Khan academy](https://www.khanacademy.org/math/linear-algebra/matrix_transformations/lin_trans_examples/v/introduction-to-projections).\n",
      "\n",
      "If you know projection, you may think of a dot product like $\\vec{x} \\cdot \\vec{c_k}$ as part of the projection of our input signal $\\vec{x}$ onto the cosine vector $\\vec{c_k}$.\n",
      "\n",
      "Projection involves calculating the amount of a particular signal vector (such as a cosine wave) in another signal vector (such as our input data $\\vec{x}$).\n",
      "\n",
      "The Pearson product-moment correlation coefficient uses the dot product to test for relationship between two variables.  In our case, except for the first cosine vector $\\vec{c_0} = \\vec{1}$, the dot products $\\vec{x} \\cdot \\vec{c_k}$ and $\\vec{x} \\cdot \\vec{s_k}$ are proportional to the Pearson product-moment correlation coefficient between $\\vec{c_k}$ and $\\vec{x}$ or $\\vec{s_k}$ and $\\vec{x}$, respectively.\n",
      "\n",
      "The projection of a vector $\\vec{a}$ onto a vector $\\vec{b}$ is given by:\n",
      "\n",
      "$$\n",
      "proj_{\\vec{b}}\\vec{a} \\triangleq g \\vec{b}\n",
      "$$\n",
      "\n",
      "where $g$ is a scalar that we will call the *projection coefficient*:\n",
      "\n",
      "$$\n",
      "g = \\frac{\\vec{a} \\cdot \\vec{b}}{\\vec{b} \\cdot \\vec{b}}\n",
      "$$\n",
      "\n",
      "Note that $\\vec{b} \\cdot \\vec{b}$ is also $\\| \\vec{b} \\|^2$, so we can also write:\n",
      "\n",
      "$$\n",
      "g = \\frac{\\vec{a} \\cdot \\vec{b}}{\\| \\vec{b} \\|^2}\n",
      "$$\n",
      "\n",
      "The result of the projection $proj_{\\vec{b}}\\vec{a}$ is a copy of $\\vec{b}$ scaled by $g$ - the scalar amount of $\\vec{a}$ present in $\\vec{b}$."
     ]
    },
    {
     "cell_type": "markdown",
     "metadata": {},
     "source": [
      "### Forward and inverse DFT as vector projection"
     ]
    },
    {
     "cell_type": "markdown",
     "metadata": {},
     "source": [
      "The foward DFT uses the dot product to form the top half of the $c$ coefficients for projecting the signal onto a set of cosine and sine waves.\n",
      "\n",
      "The inverse DFT forms the full $c$ values and projects onto the cosine and sine waves, to reconstruct the signal."
     ]
    },
    {
     "cell_type": "markdown",
     "metadata": {},
     "source": [
      "### The DFT by example"
     ]
    },
    {
     "cell_type": "markdown",
     "metadata": {},
     "source": [
      "We saw before that the first Fourier cosine and sine vectors are for 0 cycles over the signal, and therefore:\n",
      "\n",
      "$$\n",
      "\\vec{t_0} = \\vec{0} \\\\\n",
      "\\vec{c_0} = C_{0, :} = \\vec{1} \\\\\n",
      "\\vec{s_0} = S_{0, :} = \\vec{0}\n",
      "$$\n",
      "\n",
      "So:\n",
      "\n",
      "$$  \n",
      "X_0 = \\vec{1} \\cdot \\vec{x} - i \\vec{0} \\cdot \\vec{x} \\\\\n",
      " = \\sum_{n=0}^{N-1}{x_n}\n",
      "$$"
     ]
    },
    {
     "cell_type": "markdown",
     "metadata": {},
     "source": [
      "We see that, for a real input signal, the first DFT coefficient must have 0 as the imaginary part, and the real part will be the sum of the signal $\\vec{x}$.  Is that true in our case?"
     ]
    },
    {
     "cell_type": "code",
     "collapsed": false,
     "input": [
      "print('Sum of x', np.sum(x))\n",
      "print('First DFT coefficient X[0]', X[0])"
     ],
     "language": "python",
     "metadata": {},
     "outputs": []
    },
    {
     "cell_type": "markdown",
     "metadata": {},
     "source": [
      "We can show how $X_0$ comes about in the matrix multiplication by highlighting \n",
      "\n",
      "* $X_0$;\n",
      "* the relevant row of $\\C$ : $C_{0,:}$;\n",
      "* the vector $\\vec{x}$.\n",
      "\n",
      "We can leave out the relevant row of $\\S$ : $S_{0,:}$ because it is all 0."
     ]
    },
    {
     "cell_type": "code",
     "collapsed": false,
     "input": [
      "sketch = dftp.DFTSketch(x)\n",
      "sketch.sketch(figsize=(12, 5))\n",
      "sketch.highlight('X_real', [0])\n",
      "sketch.highlight('C', [[0, ':']])\n",
      "sketch.highlight('x_c', [':'])"
     ],
     "language": "python",
     "metadata": {},
     "outputs": []
    },
    {
     "cell_type": "markdown",
     "metadata": {},
     "source": [
      "From the forward DFT formula on a vector of real numbers, we see that the $\\R{X}$ will contain the dot product of $\\vec{x}$ with the cosine basis, and $\\I{X}$ will contain the dot product of $\\vec{x}$ with the sine basis.\n",
      "\n",
      "Imagine, for simplicity, that $\\vec{s_k} \\cdot \\vec{x} = 0$ for every $k$, or (saying the same thing in a different way) $\\S \\cdot \\vec{x} = \\vec{0}$.\n",
      "\n",
      "In that case our forward DFT would be:\n",
      "\n",
      "$$\n",
      "X = \\C \\cdot \\vec{x}\n",
      "$$\n",
      "\n",
      "and the inverse DFT would be:\n",
      "\n",
      "$$\n",
      "X = \\frac{1}{N} \\C \\cdot \\vec{X}\n",
      "$$\n",
      "\n",
      "In that case, $\\vec{X}$ would be a vector of real numbers, each expressing the amount of the corresponding cosine vector is present in the data.\n",
      "\n",
      "We could then perfectly reconstruct our original data by summing up the result of projecting onto each cosine vector.\n",
      "\n"
     ]
    },
    {
     "cell_type": "markdown",
     "metadata": {},
     "source": [
      "If every value in the input signal has the same value, then the dot product with all other sine and cosines will be zero (there are no sine and cosine waves in the data).  In that case, the whole DFT will be the sum of the signal in the real part of the first coefficient.   Is that true?"
     ]
    },
    {
     "cell_type": "code",
     "collapsed": false,
     "input": [
      "# DFT of a constant signal\n",
      "constant_x = np.ones(N)\n",
      "constant_X = np.fft.fft(constant_x)\n",
      "constant_X"
     ],
     "language": "python",
     "metadata": {},
     "outputs": []
    },
    {
     "cell_type": "markdown",
     "metadata": {},
     "source": [
      "Let us show this in the matrix form:"
     ]
    },
    {
     "cell_type": "code",
     "collapsed": false,
     "input": [
      "sketch = dftp.DFTSketch(constant_x)\n",
      "sketch.sketch(figsize=(12, 5))\n",
      "sketch.highlight('X_real', [0])\n",
      "sketch.highlight('C', [[0, ':']])\n",
      "sketch.highlight('x_c', [':'])"
     ],
     "language": "python",
     "metadata": {},
     "outputs": []
    },
    {
     "cell_type": "markdown",
     "metadata": {},
     "source": [
      "The real part of the $X_k$ is $\\vec{x} \\cdot \\vec{1}$.  This the top half of the $c$ value for projecting the signal $\\vec{x}$ onto a vector of ones $\\vec{c_0}$ : $c = \\frac{\\vec{x} \\cdot \\vec{1}}{\\vec{1} \\cdot \\vec{1}}$.  $\\vec{1} \\cdot \\vec{1} = N$ so the projection of $\\vec{x}$ onto $\\vec{1}$ is $\\frac{1}{N} \\vec{x} \\cdot \\vec{1}$, and this is precisely what the inverse DFT will do:\n",
      "\n",
      "$$\n",
      "x_0 = \\frac{1}{N} \\vec{X} \\cdot \\vec{1} - i \\frac{1}{N} \\vec{X} \\cdot \\vec{0} \\\\\n",
      "= \\frac{1}{N} \\vec{X} \\cdot \\vec{1}\n",
      "$$"
     ]
    },
    {
     "cell_type": "code",
     "collapsed": false,
     "input": [
      "c = constant_X.dot(np.ones(N)) / N\n",
      "c"
     ],
     "language": "python",
     "metadata": {},
     "outputs": []
    },
    {
     "cell_type": "markdown",
     "metadata": {},
     "source": [
      "Now let us look at the second coefficient, $X_1$.\n",
      "\n",
      "This was formed by dot products of the signal with cosine and sine waves having a single cycle across the whole signal:\n",
      "\n",
      "$$\n",
      "\\vec{t_1} \\triangleq \\left[ 2 \\pi \\frac{n}{N} \\;\\mathrm{for}\\; n \\in 0,1,\\ldots,N-1 \\right] \\\\\n",
      "\\vec{c_1} \\triangleq \\left[ \\cos(t_{1,n}) \\;\\mathrm{for}\\; n \\in 0,1,\\ldots,N-1 \\right] \\\\\n",
      "\\vec{s_1} \\triangleq \\left[ \\sin(t_{1,n}) \\;\\mathrm{for}\\; n \\in 0,1,\\ldots,N-1 \\right]\n",
      "$$\n",
      "\n",
      "Here are plots of $\\vec{c_1}, \\vec{s_1}$:"
     ]
    },
    {
     "cell_type": "code",
     "collapsed": false,
     "input": [
      "ns = np.arange(N)\n",
      "t_1 = 2 * np.pi * ns / N\n",
      "plt.plot(ns, np.cos(t_1), 'o:')\n",
      "plt.plot(ns, np.sin(t_1), 'o:')\n",
      "plt.xlim(0, N-1)\n",
      "plt.xlabel('n')"
     ],
     "language": "python",
     "metadata": {},
     "outputs": []
    },
    {
     "cell_type": "markdown",
     "metadata": {},
     "source": [
      "If the input signal is a single cosine wave of amplitude 3, with one cycle over the signal, then we can predict $X_1$.  It will be the dot product of the input signal with $c_1$, which is the same as $3 c_1 \\cdot c_1$:"
     ]
    },
    {
     "cell_type": "code",
     "collapsed": false,
     "input": [
      "t_1 = 2 * np.pi * ns / N\n",
      "cos_x = 3 * np.cos(t_1)\n",
      "c_1 = np.cos(t_1)\n",
      "X = np.fft.fft(cos_x)\n",
      "print('First DFT coefficient for single cosine', X[1])\n",
      "print('Dot product of single cosine with c_1', cos_x.dot(c_1))\n",
      "print('3 * dot product of c_1 with itself', 3 * c_1.T.dot(c_1))"
     ],
     "language": "python",
     "metadata": {},
     "outputs": []
    },
    {
     "cell_type": "markdown",
     "metadata": {},
     "source": [
      "### Fitting all cosine phases with an added sine"
     ]
    },
    {
     "cell_type": "markdown",
     "metadata": {},
     "source": [
      "Now it is time to bring the $i \\vec{x} \\cdot \\vec{s_k}$ part of the DFT into play.\n",
      "\n",
      "By calculating the dot product of our input vector with a cosine wave of a given frequency, we detect any signal that matches that cosine with the given phase and the given frequency. In our example above, we used the DFT $\\vec{c_1}$ dot product to detect a cosine with phase offset 0 - the cosine starts at $n = 0$."
     ]
    },
    {
     "cell_type": "markdown",
     "metadata": {},
     "source": [
      "What happens if the cosine in the signal has a different phase?  For example, what happens to the dot product if the cosine wave in our data is shifted by 0.8,"
     ]
    },
    {
     "cell_type": "code",
     "collapsed": false,
     "input": [
      "cos_x_shifted = 3 * np.cos(t_1 + 0.8)\n",
      "plt.plot(t_1, cos_x_shifted)\n",
      "print('Dot product of shifted cosine with c_1', cos_x_shifted.dot(c_1))"
     ],
     "language": "python",
     "metadata": {},
     "outputs": []
    },
    {
     "cell_type": "markdown",
     "metadata": {},
     "source": [
      "When the cosine wave is shifted in our data, relative to the $\\vec{c_1}$, then the dot product of the signal against $\\vec{c_1}$ drops in value, and is therefore less successful at detecting this cosine wave."
     ]
    },
    {
     "cell_type": "markdown",
     "metadata": {},
     "source": [
      "This is the role of the $\\vec{s_k}$ vectors in the DFT.  By calculating dot products with the $\\vec{s_k}$ vectors, we can detect cosine waves of any phase.\n",
      "\n",
      "Let us see that in action first, and then explain why this is so.\n",
      "\n",
      "First, here is what happens to the dot products for the shifted and unshifted cosine waves:"
     ]
    },
    {
     "cell_type": "code",
     "collapsed": false,
     "input": [
      "s_1 = np.sin(t_1)\n",
      "plt.plot(t_1, cos_x, label='3 * cos wave')\n",
      "plt.plot(t_1, cos_x_shifted, label='3 * cos wave, shifted')\n",
      "plt.legend()\n",
      "print('Dot product of unshifted cosine with c_1', cos_x.dot(c_1))\n",
      "print('Dot product of unshifted cosine with s_1', cos_x.dot(s_1))\n",
      "print('Dot product of shifted cosine with c_1', cos_x_shifted.dot(c_1))\n",
      "print('Dot product of shifted cosine with s_1', cos_x_shifted.dot(s_1))"
     ],
     "language": "python",
     "metadata": {},
     "outputs": []
    },
    {
     "cell_type": "markdown",
     "metadata": {},
     "source": [
      "Notice that the dot product with $\\vec{s_1}$ is effectively zero in the unshifted case, and goes up to around 34 in the shifted case."
     ]
    },
    {
     "cell_type": "markdown",
     "metadata": {},
     "source": [
      "Now let us use the projections from these dot products to reconstruct the original vector (as we will soon do using the inverse DFT)."
     ]
    },
    {
     "cell_type": "markdown",
     "metadata": {},
     "source": [
      "First we use the dot product with $\\vec{c_1}$ to reconstruct the unshifted cosine (the dot product with $\\vec{s_1}$ is zero, so we do not need it)."
     ]
    },
    {
     "cell_type": "code",
     "collapsed": false,
     "input": [
      "# Reconstruct unshifted cos from dot product projection\n",
      "c_unshifted = cos_x.dot(c_1) / c_1.dot(c_1)\n",
      "proj_onto_c1 = c_unshifted * c_1\n",
      "plt.plot(ns, proj_onto_c1)\n",
      "plt.title('Reconstructed unshifted cosine')"
     ],
     "language": "python",
     "metadata": {},
     "outputs": []
    },
    {
     "cell_type": "markdown",
     "metadata": {},
     "source": [
      "Now we can use the cosine and sine dot product to reconstruct the shifted cosine vector:"
     ]
    },
    {
     "cell_type": "code",
     "collapsed": false,
     "input": [
      "# Reconstruct shifted cos from dot product projection\n",
      "c_cos_shifted = cos_x_shifted.dot(c_1) / c_1.dot(c_1)\n",
      "c_sin_shifted = cos_x_shifted.dot(s_1) / s_1.dot(s_1)\n",
      "proj_onto_c1 = c_cos_shifted * c_1\n",
      "proj_onto_s1 = c_sin_shifted * s_1\n",
      "reconstructed = proj_onto_c1 + proj_onto_s1\n",
      "plt.plot(ns, reconstructed)\n",
      "plt.title('Reconstructed shifted cosine')\n",
      "assert np.allclose(reconstructed, cos_x_shifted)"
     ],
     "language": "python",
     "metadata": {},
     "outputs": []
    },
    {
     "cell_type": "markdown",
     "metadata": {},
     "source": [
      "The reason that this works for any phase shift is the angle sum rule.\n",
      "\n",
      "The angle sum rule is:\n",
      "\n",
      "$$\n",
      "\\cos(\\alpha \\pm \\beta) = \\cos \\alpha \\cos \\beta \\mp \\sin \\alpha \\sin \\beta\n",
      "$$\n",
      "\n",
      "To unpack the $\\pm, \\mp$:\n",
      "\n",
      "$$\n",
      "\\cos(\\alpha + \\beta) = \\cos \\alpha \\cos \\beta - \\sin \\alpha \\sin \\beta \\\\\n",
      "\\cos(\\alpha - \\beta) = \\cos \\alpha \\cos \\beta + \\sin \\alpha \\sin \\beta\\\n",
      "$$"
     ]
    },
    {
     "cell_type": "markdown",
     "metadata": {},
     "source": [
      "See [angle sum proof](https://perrin.dynevor.org/angle_sum.html) for a visual proof in the case of real angles $\\alpha, \\beta$."
     ]
    }
   ],
   "metadata": {}
  }
 ]
}