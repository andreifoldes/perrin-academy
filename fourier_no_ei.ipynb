{
 "metadata": {
  "name": "",
  "signature": "sha256:15cb53e712b8b59637270ebdc97a28f08a5e4fd47f094593f01d5062a0e6cf45"
 },
 "nbformat": 3,
 "nbformat_minor": 0,
 "worksheets": [
  {
   "cells": [
    {
     "cell_type": "code",
     "collapsed": false,
     "input": [
      "# - compatibility with Python 3\n",
      "from __future__ import print_function  # print('me') instead of print 'me'\n",
      "from __future__ import division  # 1/2 == 0.5, not 0"
     ],
     "language": "python",
     "metadata": {},
     "outputs": []
    },
    {
     "cell_type": "code",
     "collapsed": false,
     "input": [
      "# - show figures inside the notebook\n",
      "%matplotlib inline"
     ],
     "language": "python",
     "metadata": {},
     "outputs": []
    },
    {
     "cell_type": "code",
     "collapsed": false,
     "input": [
      "# - import common modules\n",
      "import numpy as np  # the Python array package\n",
      "import matplotlib.pyplot as plt  # the Python plotting package"
     ],
     "language": "python",
     "metadata": {},
     "outputs": []
    },
    {
     "cell_type": "code",
     "collapsed": false,
     "input": [
      "# - set gray colormap and nearest neighbor interpolation by default\n",
      "plt.rcParams['image.cmap'] = 'gray'\n",
      "plt.rcParams['image.interpolation'] = 'nearest'"
     ],
     "language": "python",
     "metadata": {},
     "outputs": []
    },
    {
     "cell_type": "code",
     "collapsed": false,
     "input": [
      "# - tell numpy to print numbers to 4 decimal places only\n",
      "np.set_printoptions(precision=4, suppress=True)"
     ],
     "language": "python",
     "metadata": {},
     "outputs": []
    },
    {
     "cell_type": "markdown",
     "metadata": {},
     "source": [
      "## Fourier without the ei"
     ]
    },
    {
     "cell_type": "markdown",
     "metadata": {},
     "source": [
      "The standard equations for discrete Fourier transforms (DFTs) involve exponentials to the power of $i$ - the imaginary unit.  I personally find these difficult to think about, and it turns out, the DFT is fairly easy to recast in terms of $\\sin$ and $\\cos$.  This page goes through this process, and tries to show how thinking in this way can explain some features of the DFT.\n",
      "\n",
      "You will not need heavy math to follow this page.  If you don't know these concepts already you might want to brush up on them:\n",
      "\n",
      "* basic trigonometry (SOH CAH TOA, Pythagoras' theorem);\n",
      "* the angle sum rule;\n",
      "* basic algebra with sums (e.g. $\\sum_{i=0}^{N-1} (x_i + 4) = \\sum_{i=0}^{N-1} x_i + N 4$);\n",
      "* vector dot products;\n",
      "* vector projection using the dot product.\n",
      "\n",
      "You will not need to understand complex numbers in any depth."
     ]
    },
    {
     "cell_type": "markdown",
     "metadata": {},
     "source": [
      "### Some actual numbers to start"
     ]
    },
    {
     "cell_type": "markdown",
     "metadata": {},
     "source": [
      "Let us start with a DFT of some data:"
     ]
    },
    {
     "cell_type": "code",
     "collapsed": false,
     "input": [
      "# Get some repeatable random numbers\n",
      "np.random.seed(42)\n",
      "N = 32  # the length of the time-series\n",
      "x = np.random.normal(size=N)\n",
      "plt.plot(x)"
     ],
     "language": "python",
     "metadata": {},
     "outputs": []
    },
    {
     "cell_type": "code",
     "collapsed": false,
     "input": [
      "# Now the DFT\n",
      "X = np.fft.fft(x)\n",
      "X"
     ],
     "language": "python",
     "metadata": {},
     "outputs": []
    },
    {
     "cell_type": "markdown",
     "metadata": {},
     "source": [
      "### Introducing the discrete Fourier transform"
     ]
    },
    {
     "cell_type": "markdown",
     "metadata": {},
     "source": [
      "Let us say we have a vector of $N$ values in time, or space $\\vec{x} = [x_0, x_1 ... x_{N-1}]$.  We generally index $\\vec{x}$ with subscript $n$, so the sample at index $n$ is $x_n$.\n",
      "\n",
      "The discrete Fourier transform (DFT) converts $\\vec{x}$ from a vector in time, or space to a vector $\\vec{X}$ representing temporal or spatial frequency components.\n",
      "\n",
      "We will call our original $\\vec{x}$ the *signal*, meaning, the signal not transformed to frequency.\n",
      "\n",
      "The DFT converts $\\vec{x}$ to $\\vec{X}$ where $\\vec{X} = [X_0, X_1, ... X_{N-1}]$.  We generally index $\\vec{X}$ with subscript $k$, so the sample at index $k$ is $X_k$.\n",
      "\n",
      "Here is the equation for the discrete Fourier transform:\n",
      "\n",
      "$$\n",
      "X_k = \\sum_{n=0}^{N-1} x_n \\cdot e^{-i 2 \\pi \\frac{k}{N} n}\n",
      "$$\n",
      "\n",
      "This is the transform from signal to frequency.  We will call this the *forward* Fourier transform.\n",
      "\n",
      "Here is the equation for the inverse Fourier transform:\n",
      "\n",
      "$$\n",
      "x_n = \\frac{1}{N} \\sum_{k=0}^{N-1} X_k \\cdot e^{+i 2 \\pi \\frac{k}{N} n}\n",
      "$$\n",
      "\n",
      "The inverse Fourier transform converts from frequency back to signal."
     ]
    },
    {
     "cell_type": "markdown",
     "metadata": {},
     "source": [
      "Let us demonstrate that these formulae produce the result we got from the canned DFT we used above."
     ]
    },
    {
     "cell_type": "code",
     "collapsed": false,
     "input": [
      "ns = np.arange(0, N)\n",
      "ks = np.arange(0, N)\n",
      "# Apply forward transform by hand\n",
      "X_again = np.zeros_like(X)\n",
      "for k in ks:\n",
      "    X_again[k] = np.sum(x * np.e**(-1j * 2 * np.pi * k * ns / N))\n",
      "assert np.allclose(X, X_again)  # Raise error unless results match\n",
      "# Apply inverse transform by hand\n",
      "x_again = np.zeros_like(X)\n",
      "for n in ns:\n",
      "    x_again[n] = 1 / N * np.sum(X * np.e**(1j * 2 * np.pi * ks * n / N))\n",
      "assert np.allclose(x, x_again)  # Raise error unless results match"
     ],
     "language": "python",
     "metadata": {},
     "outputs": []
    },
    {
     "cell_type": "markdown",
     "metadata": {},
     "source": [
      "### Scrubbing the $e^i$"
     ]
    },
    {
     "cell_type": "markdown",
     "metadata": {},
     "source": [
      "The forward and inverse equations are very similar; both share a term $e^{iq}$, where $q = -2 \\pi \\frac{k}{N} n$ for the forward transform; $q = 2 \\pi \\frac{k}{N} n$ for the inverse transform."
     ]
    },
    {
     "cell_type": "markdown",
     "metadata": {},
     "source": [
      "Some people are used to looking at the form $e^{iq}$ and thinking \"aha, that's a rotation around a circle\".  Apparently this is an intuition that builds up over time working with these sorts of equations."
     ]
    },
    {
     "cell_type": "markdown",
     "metadata": {},
     "source": [
      "Unfortunately, I am not one of those people, and I find it hard to think in complex exponentials.  Worse than that, my intuition about complex numbers is very bad.\n",
      "\n",
      "So, in this tutorial, I am going to unpack the Fourier transform in terms of $\\sin$ and $\\cos$.  I will be using complex numbers, but almost entirely as a pair of numbers to represent two components of the same thing, rather than a single number with a real and  imaginary part."
     ]
    },
    {
     "cell_type": "markdown",
     "metadata": {},
     "source": [
      "Our first tool in this enterprise is Euler's formula:\n",
      "\n",
      "$$\n",
      "e^{ix} = \\cos x + i\\sin x\n",
      "$$"
     ]
    },
    {
     "cell_type": "markdown",
     "metadata": {},
     "source": [
      "This is the basis for thinking of $e^{iq}$ as being rotation around a circle.  In our case, it allows us to rewrite the forward and inverse Fourier transforms:\n",
      "\n",
      "$$\n",
      "q = 2 \\pi \\frac{k}{N} n \\\\\n",
      "X_k = \\sum_{n=0}^{N-1} x_n \\cdot \\cos(-q) + i \\sum_{n=0}^{N-1} x_n \\cdot \\sin(-q) \\\\\n",
      "x_n = \\frac{1}{N} \\sum_{k=0}^{N-1} X_k \\cdot \\cos(q) + i \\frac{1}{N} \\sum_{k=0}^{N-1} X_k \\cdot \\sin(q)\n",
      "$$"
     ]
    },
    {
     "cell_type": "markdown",
     "metadata": {},
     "source": [
      "We can simplify this a bit further, because:\n",
      "\n",
      "$$\n",
      "\\cos(-q) = cos(q) \\\\\n",
      "\\sin(-q) = -sin(q)\n",
      "$$"
     ]
    },
    {
     "cell_type": "markdown",
     "metadata": {},
     "source": [
      "Here are some plots of $\\sin$ and $\\cos$ to convince you, at least for the case of real numbers:"
     ]
    },
    {
     "cell_type": "code",
     "collapsed": false,
     "input": [
      "two_pi = 2 * np.pi\n",
      "x_vals = np.linspace(-two_pi, two_pi, 1000)\n",
      "plt.plot(x_vals, np.cos(x_vals), label='cos')\n",
      "plt.plot(x_vals, np.sin(x_vals), label='sin')\n",
      "plt.xlim([-two_pi, two_pi])\n",
      "plt.legend()"
     ],
     "language": "python",
     "metadata": {},
     "outputs": []
    },
    {
     "cell_type": "markdown",
     "metadata": {},
     "source": [
      "$$\n",
      "q = 2 \\pi \\frac{k}{N} n \\\\\n",
      "X_k = \\sum_{n=0}^{N-1} x_n \\cdot \\cos(q) - i \\sum_{n=0}^{N-1} x_n \\cdot \\sin(q) \\\\\n",
      "x_n = \\frac{1}{N} \\sum_{k=0}^{N-1} X_k \\cdot \\cos(q) + i \\frac{1}{N} \\sum_{k=0}^{N-1} X_k \\cdot \\sin(q)\n",
      "$$"
     ]
    },
    {
     "cell_type": "markdown",
     "metadata": {},
     "source": [
      "Let's check we are still getting the same answers as for the canned DFT:"
     ]
    },
    {
     "cell_type": "code",
     "collapsed": false,
     "input": [
      "# Apply forward transform after rewrite with sin, cos\n",
      "X_again = np.zeros_like(X)\n",
      "for k in ks:\n",
      "    q = 2 * np.pi * k * ns / N\n",
      "    X_again[k] = np.sum(x * np.cos(q)) - 1j * np.sum(x * np.sin(q))\n",
      "assert np.allclose(X, X_again)  # Raise error unless results match\n",
      "# Apply inverse transform after rewrite with sin, cos\n",
      "x_again = np.zeros_like(X)\n",
      "for n in ns:\n",
      "    q = 2 * np.pi * ks * n / N\n",
      "    x_again[n] = (1 / N * np.sum(X * np.cos(q)) + \n",
      "                  1j * 1 / N * np.sum(X * np.sin(q)))\n",
      "assert np.allclose(x, x_again)  # Raise error unless results match"
     ],
     "language": "python",
     "metadata": {},
     "outputs": []
    },
    {
     "cell_type": "markdown",
     "metadata": {},
     "source": [
      "### Rewriting as dot products"
     ]
    },
    {
     "cell_type": "markdown",
     "metadata": {},
     "source": [
      "We can simplify the notation, and maybe make the process clearer, by rewriting these sums in terms of dot products.\n",
      "\n",
      "As y'all remember, the dot product of two length $N$ vectors $\\vec{v}, \\vec{w}$ is $\\sum_{i=0}^{N-1} v_i w_i$.\n",
      "\n",
      "For the moment, let us concentrate on the forward transform.\n",
      "\n",
      "For the following lines, read $\\triangleq$ as \"is defined as\":\n",
      "\n",
      "$$\n",
      "\\vec{t_k} \\triangleq \\left[ k 2 \\pi \\frac{n}{N} \\;\\mathrm{for}\\; n \\in 0,1,\\ldots,N-1 \\right] \\\\\n",
      "\\vec{c_k} \\triangleq \\left[ \\cos(t_{k,n}) \\;\\mathrm{for}\\; n \\in 0,1,\\ldots,N-1 \\right] \\\\\n",
      "\\vec{s_k} \\triangleq \\left[ \\sin(t_{k,n}) \\;\\mathrm{for}\\; n \\in 0,1,\\ldots,N-1 \\right]\n",
      "$$\n",
      "\n",
      "Now we can rewrite the sums in the forward transform as the sum of two dot products:\n",
      "\n",
      "$$  \n",
      "X_k = \\vec{x} \\cdot \\vec{c_k} - i \\vec{x} \\cdot \\vec{s_k}\n",
      "$$"
     ]
    },
    {
     "cell_type": "markdown",
     "metadata": {},
     "source": [
      "The vector $\\vec{t_k}$ is key to understanding what is going on.  $t_k$ sets up the horizontal axis values to sample a $\\sin$ or $\\cos$ function so the function gives us $k$ cycles between the indices $0 .. N-1$.\n",
      "\n",
      "In the formulae above, $n / N$ is the proportion of the whole signal width, so it varies between 0 and $(N-1) / N$.  The $2 \\pi$ corresponds to one cycle of the cosine or sine function.\n",
      "\n",
      "So, $\\vec{t_0}$ gives a vector of zeros - 0 cycles across $0 ... N-1$.  $\\vec{t_1}$ gives us $0$ up to (not including) $2 \\pi$ - one cycle across the indices $0 .. N-1$.  $\\vec{t_2}$ gives us $0$ up to (not including) $4 \\pi$ - two cycles."
     ]
    },
    {
     "cell_type": "markdown",
     "metadata": {},
     "source": [
      "Here are some plots of $\\vec{c_k}$, $\\vec{s_k}$ for $k \\in 0, 1, 2, 3, 4, 5$:"
     ]
    },
    {
     "cell_type": "code",
     "collapsed": false,
     "input": [
      "fig, axes = plt.subplots(6, 1)\n",
      "for k in range(6):\n",
      "    t_k = k * 2* np.pi * ns / N\n",
      "    axes[k].plot(ns, np.cos(t_k))\n",
      "    axes[k].plot(ns, np.sin(t_k))\n",
      "    axes[k].set_xlim(0, N-1)\n",
      "    axes[k].set_ylim(-1.1, 1.1)"
     ],
     "language": "python",
     "metadata": {},
     "outputs": []
    },
    {
     "cell_type": "markdown",
     "metadata": {},
     "source": [
      "To rephrase: $\\vec{c_k}, \\vec{s_k}$ are cosine / sine waves with $k$ cycles over the $N$ indices.\n",
      "\n",
      "So, the $X_k$ value is the dot product of the $\\vec{x}$ with a cosine wave of $k$ cycles minus $i$ times the dot product of $\\vec{x}$ with the sine wave of $k$ cycles."
     ]
    },
    {
     "cell_type": "markdown",
     "metadata": {},
     "source": [
      "While this is all fresh in our minds, let us fill out the equivalent notation for the inverse transform. \n",
      "\n",
      "$$\n",
      "\\vec{t_n} \\triangleq \\left[ n 2 \\pi \\frac{k}{N} \\;\\mathrm{for}\\; k \\in =0,1,\\ldots,N-1 \\right] \\\\\n",
      "\\vec{c_n} \\triangleq \\left[ \\cos(t_{n,k}) \\;\\mathrm{for}\\; k \\in 0,1,\\ldots,N-1 \\right] \\\\\n",
      "\\vec{s_n} \\triangleq \\left[ \\sin(t_{n,k}) \\;\\mathrm{for}\\; k \\in 0,1,\\ldots,N-1 \\right]\n",
      "$$\n",
      "\n",
      "Because both $n$ and $k$ have indices from $0 .. N-1$:\n",
      "$$\n",
      "\\vec{t_k} = \\vec{t_n} \\;\\mathrm{where}\\; k=n \\\\\n",
      "\\vec{c_k} = \\vec{c_n} \\;\\mathrm{where}\\; k=n \\\\\n",
      "\\vec{s_k} = \\vec{s_n} \\;\\mathrm{where}\\; k=n\n",
      "$$"
     ]
    },
    {
     "cell_type": "markdown",
     "metadata": {},
     "source": [
      "The inverse transform is now:\n",
      "\n",
      "$$\n",
      "x_n = \\frac{1}{N} \\vec{X} \\cdot \\vec{c_n} + i \\frac{1}{N} \\vec{X} \\cdot \\vec{s_n}\n",
      "$$"
     ]
    },
    {
     "cell_type": "markdown",
     "metadata": {},
     "source": [
      "### Rewriting the DFT with cosine and sine basis matrices"
     ]
    },
    {
     "cell_type": "markdown",
     "metadata": {},
     "source": [
      "Instead of writing the formulae for $X_k$ and $x_n$, we can use matrices to express our formulae in terms of $\\vec{X}, \\vec{x}$."
     ]
    },
    {
     "cell_type": "markdown",
     "metadata": {},
     "source": [
      "$\\newcommand{C}{\\mathbf{C}} \\newcommand{S}{\\mathbf{S}}$\n",
      "Define a matrix $\\C$ that has rows $[c_0, c_1, ... c_{N-1}]$:\n",
      "\n",
      "$$\n",
      "\\C \\triangleq\n",
      " \\begin{bmatrix}\n",
      "    c_{0,0}, c_{0, 1}, ..., c_{0, N-1} \\\\\n",
      "    c_{1,0}, c_{1, 1}, ..., c_{1, N-1} \\\\\n",
      "    ... \\\\\n",
      "    c_{N-1,0}, c_{N-1, 1}, ..., c_{N-1, N-1} \\\\\n",
      " \\end{bmatrix}\n",
      "$$\n",
      "\n",
      "Call $\\C$ the *cosine basis matrix*.\n",
      "\n",
      "Define a matrix $\\S$ that has rows $[s_0, s_1, ... s_{N-1}]$:\n",
      "\n",
      "$$\n",
      "\\S \\triangleq\n",
      " \\begin{bmatrix}\n",
      "    s_{0,0}, s_{0, 1}, ..., s_{0, N-1} \\\\\n",
      "    s_{1,0}, s_{1, 1}, ..., s_{1, N-1} \\\\\n",
      "    ... \\\\\n",
      "    s_{N-1,0}, s_{N-1, 1}, ..., s_{N-1, N-1} \\\\\n",
      " \\end{bmatrix}\n",
      "$$\n",
      "\n",
      "Call $\\S$ the *sine basis matrix*."
     ]
    },
    {
     "cell_type": "markdown",
     "metadata": {},
     "source": [
      "Now we can rewrite the forward and inverse DFT as matrix products:\n",
      "\n",
      "$$\n",
      "\\vec{X} = \\C \\cdot \\vec{x} - i \\S \\cdot \\vec{x} \\\\\n",
      "\\vec{x} = \\frac{1}{N} \\C \\cdot \\vec{X} + i \\frac{1}{N} \\S \\cdot \\vec{X}\n",
      "$$\n",
      "\n",
      "This gives us the same calculatation for $X_k$ and $x_n$ as we have above using the vector dot products.  Write row $k$ of $\\C$ as $C_{k,:}$. Row $k$ of $\\S$ is $S_{k,:}$.  Thus, from the rules of matrix multiplication:\n",
      "\n",
      "$$\n",
      "X_k = C_{k,:} \\cdot \\vec{x} - i S_{k,:} \\cdot \\vec{x} \\\\\n",
      "= \\vec{x} \\cdot \\vec{c_k} - i \\vec{x} \\cdot \\vec{s_k} \\\\\n",
      "x_n = \\frac{1}{N} C_{n,:} \\cdot \\vec{X} + i \\frac{1}{N} S_{n,:} \\cdot \\vec{X} \\\\\n",
      "= \\frac{1}{N} \\vec{X} \\cdot \\vec{c_n} + i \\frac{1}{N} \\vec{X} \\cdot \\vec{s_n}\n",
      "$$"
     ]
    },
    {
     "cell_type": "markdown",
     "metadata": {},
     "source": [
      "Let us build up these matrices for our case with $N=32$:"
     ]
    },
    {
     "cell_type": "code",
     "collapsed": false,
     "input": [
      "C = np.zeros((N, N))\n",
      "S = np.zeros((N, N))\n",
      "ns = np.arange(N)\n",
      "for k in range(N):\n",
      "    t_k = k * 2* np.pi * ns / N\n",
      "    C[k, :] = np.cos(t_k)\n",
      "    S[k, :] = np.sin(t_k)"
     ],
     "language": "python",
     "metadata": {},
     "outputs": []
    },
    {
     "cell_type": "markdown",
     "metadata": {},
     "source": [
      "We get the same result using these matrices, as we do using the canned DFT:"
     ]
    },
    {
     "cell_type": "code",
     "collapsed": false,
     "input": [
      "X_again = C.dot(x) - 1j * S.dot(x)\n",
      "assert np.allclose(X, X_again)\n",
      "x_again = 1. / N * C.dot(X) + 1j / N * S.dot(X)\n",
      "assert np.allclose(x, x_again)"
     ],
     "language": "python",
     "metadata": {},
     "outputs": []
    },
    {
     "cell_type": "markdown",
     "metadata": {},
     "source": [
      "## Some properties of the cosine and sine basis matrices"
     ]
    },
    {
     "cell_type": "markdown",
     "metadata": {},
     "source": [
      "First we note that $\\C$ and $\\S$ are always real matrices."
     ]
    },
    {
     "cell_type": "markdown",
     "metadata": {},
     "source": [
      "Let's have a look at $\\C$ and $\\S$ as grayscale images:"
     ]
    },
    {
     "cell_type": "code",
     "collapsed": false,
     "input": [
      "fig, axes = plt.subplots(1, 2)\n",
      "axes[0].imshow(C)\n",
      "axes[0].set_title('cosine basis matrix')\n",
      "axes[1].imshow(S)\n",
      "axes[1].set_title('sine basis matrix')"
     ],
     "language": "python",
     "metadata": {},
     "outputs": []
    },
    {
     "cell_type": "markdown",
     "metadata": {},
     "source": [
      "We see that the bottom half of $\\C$ looks like a mirror image of the top half of $\\C$.  The bottom half of $\\S$ looks like a sign flipped (black $\\Leftrightarrow$ white) mirror image of the top half of $\\S$.  In fact this is correct:\n",
      "\n",
      "$$\n",
      "C_{i,:} = C_{N-i,:} \\; \\mathrm{for} \\; i > 0 \\\\\n",
      "S_{i,:} = -S_{N-i,:} \\; \\mathrm{for} \\; i > 0\n",
      "$$"
     ]
    },
    {
     "cell_type": "markdown",
     "metadata": {},
     "source": [
      "Why is this?  Let's look at lines from the center of $\\C$.  Here we are plotting the continuous cosine function with dotted lines, and the discrete samples taken to create the data for the row of $\\C$:"
     ]
    },
    {
     "cell_type": "code",
     "collapsed": false,
     "input": [
      "def plot_center_rows(func, n_around):\n",
      "    \"\"\" Plot some rows at and around center of C or S matrix\n",
      "    \n",
      "    `func` is ``np.cos`` for C matrix, ``np.sin`` for S matrix.\n",
      "    \n",
      "    `n_around` is the number of rows before / after center to plot\n",
      "    \"\"\"\n",
      "    center = N / 2\n",
      "    discrete_ns = np.arange(0, N)\n",
      "    continuous_ns = np.linspace(0, N, 1000)\n",
      "    ks = np.arange(center - n_around, center + n_around + 1)\n",
      "    fig, axes = plt.subplots(len(ks), 1, figsize=(15, 8))\n",
      "    y_lim_lo, y_lim_hi = -1.3, 1.3\n",
      "    for plt_no, k in enumerate(ks):\n",
      "        discrete_t_k = k * 2* np.pi * discrete_ns / N\n",
      "        continuous_t_k = k * 2* np.pi * continuous_ns / N\n",
      "        ax = axes[plt_no]\n",
      "        ax.plot(continuous_ns, func(continuous_t_k), ':')\n",
      "        ax.plot(discrete_ns, func(discrete_t_k), 'o')\n",
      "        # Add some vertical lines to show sampling position\n",
      "        for x_pos in discrete_ns:\n",
      "            ax.plot([x_pos, x_pos], [y_lim_lo, y_lim_hi], ':k')\n",
      "        ax.set_xlim(0, N)\n",
      "        ax.set_ylim(y_lim_lo, y_lim_hi)\n",
      "    return fig\n",
      "\n",
      "fig = plot_center_rows(np.cos, 1)\n",
      "fig.suptitle('Rows $N / 2 - 1$ through $N / 2 + 1$ of $\\mathbf{C}$',\n",
      "             fontsize=20)"
     ],
     "language": "python",
     "metadata": {},
     "outputs": []
    },
    {
     "cell_type": "markdown",
     "metadata": {},
     "source": [
      "The first plot in this grid is for row $k = N / 2 - 1$.  This row starts sampling just before the peak and trough of the cosine.\n",
      "In the center is row $k = N / 2$ of $\\C$.  This is sampling the cosine wave exactly at the peak and trough.  When we get to next row, at $k = N / 2 + 1$, we start sampling after the peak and trough of the cosine, and these samples are identical to the samples just before the peak and trough, at row $k = N / 2 - 1$.  Row $k = N / 2$ is sampling at the Nyquist sampling frequency, and row $k = N / 2 + 1$ is being *aliased* to the same apparent frequency as row $k = N / 2 - 1$."
     ]
    },
    {
     "cell_type": "markdown",
     "metadata": {},
     "source": [
      "Of course we get the same kind of effect for $\\S$:"
     ]
    },
    {
     "cell_type": "code",
     "collapsed": false,
     "input": [
      "fig = plot_center_rows(np.sin, 1)\n",
      "fig.suptitle('Rows $N / 2 - 1$ through $N / 2 + 1$ of $\\mathbf{S}$',\n",
      "             fontsize=20)"
     ],
     "language": "python",
     "metadata": {},
     "outputs": []
    },
    {
     "cell_type": "markdown",
     "metadata": {},
     "source": [
      "Notice that for $\\S$, the sine waves after $k = N / 2$ are sign-flipped relative to their matching rows before $k = N / 2$.  Thus row $k = N / 2 + 1$ will be aliased to the same frequency as for row $k = N / 2 - 1$, but with a negative sign.\n",
      "\n",
      "It is this sign-flip that leads to the concept of *negative frequency* in the DFT, and to the property of *conjugate symmetry* from the DFT on a vector of real numbers.  We will hear more about these later."
     ]
    },
    {
     "cell_type": "markdown",
     "metadata": {},
     "source": [
      "The next thing we notice about $\\C$ and $\\S$ is that they are *symmetric*:\n",
      "\n",
      "$$\n",
      "\\C = \\C^T \\\\\n",
      "\\S = \\S^T \\\\\n",
      "$$"
     ]
    },
    {
     "cell_type": "code",
     "collapsed": false,
     "input": [
      "assert np.allclose(C, C.T)\n",
      "assert np.allclose(S, S.T)"
     ],
     "language": "python",
     "metadata": {},
     "outputs": []
    },
    {
     "cell_type": "markdown",
     "metadata": {},
     "source": [
      "Why is this?  Consider the first *column* of $\\C$.  This is given by $\\cos(k 2 \\pi 0 / N) = \\cos(0)$, and thus, like the first *row* of $\\C$, is always = 1.  \n",
      "\n",
      "Now consider the second row of $\\C$.  This is a cosine sampled at horizontal axis values:\n",
      "\n",
      "$$\n",
      "\\vec{t_1} \\triangleq \\left[ 2 \\pi \\frac{n}{N} \\;\\mathrm{for}\\; n \\in 0,1,\\ldots,N-1 \\right]\n",
      "$$\n",
      "\n",
      "Call $t_{k, n}$ the value of $\\vec{t_k}$ at index $n$.  Now consider the second *column* of $\\C$.  This is a cosine sampled at horizontal axis values for $n = 1$:\n",
      "\n",
      "$$\n",
      "t_{0,1} = (0) 2 \\pi \\frac{1}{N} \\\\\n",
      "t_{1,1} = (1) 2 \\pi \\frac{1}{N} \\\\\n",
      "... \\\\\n",
      "t_{N-1,1} = (N-1) 2 \\pi \\frac{1}{N} \\\\\n",
      "$$\n",
      "\n",
      "In general, because the sequence $k \\in 0,1,\\ldots,N-1 $ is equal to the sequence $n \\in 0,1,\\ldots,N-1$, this means that the column sampling positions for row $n \\in t_{0, n}, t_{1, n}, ... , t_{N-1, n}$ are equal to the row sampling positions for corresponding ($k = n$) row $k \\in t_{k, 0}, t_{k, 1}, ... , t_{k, N-1}$.  Write column $z$ of $\\C$ as $C_{:,z}$; column $z$ of $\\S$ is $S_{:, z}$.  Therefore $C_{z, :} = C_{:, z}, S_{z, :} = S_{:, z}$."
     ]
    },
    {
     "cell_type": "markdown",
     "metadata": {},
     "source": [
      "Last, let us look at the vector lengths of each row (therefore each column) of $\\C$, $\\S$.\n",
      "\n",
      "In fact, for convenience, let's look at the squared lengths:"
     ]
    },
    {
     "cell_type": "code",
     "collapsed": false,
     "input": [
      "C_row_sq_len = np.sum(C ** 2, axis=1)  # sum over rows\n",
      "print('C row squared vector lengths')\n",
      "C_row_sq_len"
     ],
     "language": "python",
     "metadata": {},
     "outputs": []
    },
    {
     "cell_type": "code",
     "collapsed": false,
     "input": [
      "S_row_sq_len = np.sum(S ** 2, axis=1)  # sum over rows\n",
      "print('S row squared vector lengths')\n",
      "S_row_sq_len"
     ],
     "language": "python",
     "metadata": {},
     "outputs": []
    },
    {
     "cell_type": "markdown",
     "metadata": {},
     "source": [
      "In this case, the rows of $C$ have squared length $\\frac{N}{2} = 16$, except row $k = 0, k = N / 2$, which both have squared length $N = 32$. \n",
      "\n",
      "The rows of $C$ also have squared length $\\frac{N}{2} = 16$, except row $k = 0, k = N / 2$, which both have squared length 0.\n",
      "\n",
      "Because $\\C$, $\\S$ are symmetric, $C_{z,:} = C_{:,z}, S_{z,:} = S_{:,z}$."
     ]
    },
    {
     "cell_type": "markdown",
     "metadata": {},
     "source": [
      "Write the squared length of a vector $\\vec{v}$ as $\\|\\vec{v}\\|^2$.  Then, in general, for any $z, N$:\n",
      "\n",
      "$$\n",
      "\\| C_{z,:} \\|^2 = \\| C_{:,z} \\|^2 = N \\; \\mbox{if} \\; z \\in 0, N / 2\\\\\n",
      "\\| C_{z,:} \\|^2 = \\| C_{:,z} \\|^2= \\frac{N}{2} \\; \\mbox{otherwise}\n",
      "$$\n",
      "\n",
      "Similarly:\n",
      "\n",
      "$$\n",
      "\\| S_{z,:} \\|^2 = \\| S_{:,z} \\|^2 = 0 \\; \\mbox{if} \\; z \\in 0, N / 2\\\\\n",
      "\\| S_{z,:} \\|^2 = \\| S_{:,z} \\|^2= \\frac{N}{2} \\; \\mbox{otherwise}\n",
      "$$"
     ]
    },
    {
     "cell_type": "markdown",
     "metadata": {},
     "source": [
      "The $N / 2$ squared length is because we are sampling the positive and negative parts of the sine and cosine equally:\n",
      "\n",
      "$$\n",
      "\\| C_{z,:} \\|^2 = \\| \\vec{c_k} \\|^2 = \\sum_{n=0}^{N-1} (\\cos(k 2 \\pi n / N)^2\n",
      "$$\n",
      "\n",
      "From (Wikipedia - list of trigonometric identities):\n",
      "\n",
      "$$\n",
      "(\\cos\\theta)^2 = \\frac{1 + \\cos 2\\theta}{2}\n",
      "$$\n",
      "\n",
      "Therefore:\n",
      "\n",
      "$$\n",
      "\\| \\vec{c_k} \\|^2 = \\sum_{n=0}^{N-1} \\frac{1 + \\cos (4 k \\pi n / N)}{2} \\\\\n",
      "= \\frac{1}{2} \\sum_{n=0}^{N-1} (1 + \\cos (4 k \\pi n / N)) \\\\\n",
      "= \\frac{N}{2} + \\frac{1}{2} \\sum_{n=0}^{N-1} \\cos (4 k \\pi n / N)\n",
      "$$\n",
      "\n",
      "When the $4 k \\pi n / N$ horizontal axis values sample the positive and negative parts of the cosine wave equally, $\\sum \\cos (4 k \\pi n / N) = 0$ and:\n",
      "\n",
      "$$\n",
      "\\| \\vec{c_k} \\|^2 = \\frac{N}{2}\n",
      "$$\n",
      "\n",
      "An almost identical argument applies for $\\| S_{z,:} \\|^2$. \n",
      "\n",
      "** Fixme ** - sloppy and unconvincing \"sample the positive and negative parts of the cosine wave equally\"."
     ]
    },
    {
     "cell_type": "markdown",
     "metadata": {},
     "source": [
      "### Keeping it real"
     ]
    },
    {
     "cell_type": "markdown",
     "metadata": {},
     "source": [
      "Up until now, all the rewriting applies equally to real and to complex values of $\\vec{x}$ - our original signal.\n",
      "\n",
      "From now on, I will assume our original signal is real, not complex. I will do that to make the explanation simpler, and because that is often the case when we use the DFT."
     ]
    },
    {
     "cell_type": "markdown",
     "metadata": {},
     "source": [
      "### The DFT as a projection onto cosine and sine vectors"
     ]
    },
    {
     "cell_type": "markdown",
     "metadata": {},
     "source": [
      "If you are not familiar with projection, I highly recommend the tutorials over at [Khan academy](https://www.khanacademy.org/math/linear-algebra/matrix_transformations/lin_trans_examples/v/introduction-to-projections).\n",
      "\n",
      "If you know projection, you may think of a dot product like $\\vec{x} \\cdot \\vec{c_k}$ as part of the projection of our input signal $\\vec{x}$ onto the cosine vector $\\vec{c_k}$.\n",
      "\n",
      "Projection is a way of calculating the amount of a particular signal vector (such as a cosine wave) in another signal vector (such as our input data $\\vec{x}$).\n",
      "\n",
      "The projection of a vector $\\vec{a}$ onto a vector $\\vec{b}$ is given by:\n",
      "\n",
      "$$\n",
      "proj_{\\vec{b}}\\vec{a} \\triangleq c \\vec{b}\n",
      "$$\n",
      "\n",
      "where $c$ is a scalar:\n",
      "\n",
      "$$\n",
      "c = \\frac{\\vec{a} \\cdot \\vec{b}}{\\vec{b} \\cdot \\vec{b}}\n",
      "$$\n",
      "\n",
      "The result of the projection $proj_{\\vec{b}}\\vec{a}$ is a copy of $\\vec{b}$ scaled by $c$ - the scalar amount of $\\vec{a}$ present in $\\vec{b}$."
     ]
    },
    {
     "cell_type": "markdown",
     "metadata": {},
     "source": [
      "The DFT is calculating the top half of $c$ for the projection of $\\vec{x}$ onto a series of cosines and sines.\n",
      "\n",
      "We will see soon that the inverse transform uses projection to reconstruct the signal by something very close to the following procedure:\n",
      "\n",
      "* Generate the corresponding $c$ values for each $X_k$ using the $1 / N$ scaling factor;\n",
      "* Complete the projection by multiplying the $c$ values by the original cosine and sine waves;\n",
      "* Sum up the projected results to reconstruct the original signal.\n",
      "\n",
      "This is not quite correct, but we will go through the details over the next few sections."
     ]
    },
    {
     "cell_type": "markdown",
     "metadata": {},
     "source": [
      "### A few examples of Fourier projection"
     ]
    },
    {
     "cell_type": "markdown",
     "metadata": {},
     "source": [
      "We saw before that the first Fourier cosine and sine vectors are for 0 cycles over the signal, and therefore:\n",
      "\n",
      "$$\n",
      "\\vec{t_0} = \\vec{0} \\\\\n",
      "\\vec{c_0} = \\vec{1} \\\\\n",
      "\\vec{s_0} = \\vec{0}\n",
      "$$\n",
      "\n",
      "So:\n",
      "\n",
      "$$  \n",
      "X_0 = \\vec{x} \\cdot \\vec{1} - i \\vec{x} \\cdot \\vec{0} \\\\\n",
      " = \\sum_{n=0}^{N-1}{x_n}\n",
      "$$"
     ]
    },
    {
     "cell_type": "markdown",
     "metadata": {},
     "source": [
      "We see that, for a real input signal, the first DFT coefficient must have 0 as the imaginary part, and the real part will be the sum of the signal $\\vec{x}$.  Is that true in our case?"
     ]
    },
    {
     "cell_type": "code",
     "collapsed": false,
     "input": [
      "print('Sum of x', np.sum(x))\n",
      "print('First DFT coefficient X[0]', X[0])"
     ],
     "language": "python",
     "metadata": {},
     "outputs": []
    },
    {
     "cell_type": "markdown",
     "metadata": {},
     "source": [
      "If every value in the input signal has the same value, then the dot product with all other sine and cosines will be zero (there are no sine and cosine waves in the data).  In that case, the whole DFT will be the sum of the signal in the real part of the first coefficient.   Is that true?"
     ]
    },
    {
     "cell_type": "code",
     "collapsed": false,
     "input": [
      "# DFT of a constant signal\n",
      "constant_x = np.ones(N)\n",
      "np.fft.fft(constant_x)"
     ],
     "language": "python",
     "metadata": {},
     "outputs": []
    },
    {
     "cell_type": "markdown",
     "metadata": {},
     "source": [
      "Now let us look at the second coefficient, $X_1$.\n",
      "\n",
      "This was formed by dot products of the signal with cosine and sine waves having a single cycle across the whole signal:\n",
      "\n",
      "$$\n",
      "\\vec{t_1} \\triangleq \\left[ 2 \\pi \\frac{n}{N} \\;\\mathrm{for}\\; n \\in 0,1,\\ldots,N-1 \\right] \\\\\n",
      "\\vec{c_1} \\triangleq \\left[ \\cos(t_{1,n}) \\;\\mathrm{for}\\; n \\in 0,1,\\ldots,N-1 \\right] \\\\\n",
      "\\vec{s_1} \\triangleq \\left[ \\sin(t_{1,n}) \\;\\mathrm{for}\\; n \\in 0,1,\\ldots,N-1 \\right]\n",
      "$$\n",
      "\n",
      "Here are plots of $\\vec{c_1}, \\vec{s_1}$:"
     ]
    },
    {
     "cell_type": "code",
     "collapsed": false,
     "input": [
      "ns = np.arange(N)\n",
      "t_1 = 2 * np.pi * ns / N\n",
      "plt.plot(ns, np.cos(t_1), 'o:')\n",
      "plt.plot(ns, np.sin(t_1), 'o:')\n",
      "plt.xlim(0, N-1)\n",
      "plt.xlabel('n')"
     ],
     "language": "python",
     "metadata": {},
     "outputs": []
    },
    {
     "cell_type": "markdown",
     "metadata": {},
     "source": [
      "If the input signal is a single cosine wave of amplitude 3, with one cycle over the signal, then we can predict $X_1$.  It will be the dot product of the input signal with $c_1$, which is the same as $3 c_1 \\cdot c_1$:"
     ]
    },
    {
     "cell_type": "code",
     "collapsed": false,
     "input": [
      "t_1 = 2 * np.pi * ns / N\n",
      "cos_x = 3 * np.cos(t_1)\n",
      "c_1 = np.cos(t_1)\n",
      "X = np.fft.fft(cos_x)\n",
      "print('First DFT coefficient for single cosine', X[1])\n",
      "print('Dot product of single cosine with c_1', cos_x.dot(c_1))\n",
      "print('3 * dot product of c_1 with itself', 3 * c_1.T.dot(c_1))"
     ],
     "language": "python",
     "metadata": {},
     "outputs": []
    },
    {
     "cell_type": "markdown",
     "metadata": {},
     "source": [
      "### Fitting all cosine phases with an added sine"
     ]
    },
    {
     "cell_type": "markdown",
     "metadata": {},
     "source": [
      "Now it is time to bring the $i \\vec{x} \\cdot \\vec{s_k}$ part of the DFT into play.\n",
      "\n",
      "By calculating the dot product of our input vector with a cosine wave of a given frequency, we detect any signal that matches that cosine with the given phase and the given frequency. In our example above, we used the DFT $\\vec{c_1}$ dot product to detect a cosine with phase offset 0 - the cosine starts at $n = 0$."
     ]
    },
    {
     "cell_type": "markdown",
     "metadata": {},
     "source": [
      "What happens if the cosine in the signal has a different phase?  For example, what happens to the dot product if the cosine wave in our data is shifted by 0.8,"
     ]
    },
    {
     "cell_type": "code",
     "collapsed": false,
     "input": [
      "cos_x_shifted = 3 * np.cos(t_1 + 0.8)\n",
      "plt.plot(t_1, cos_x_shifted)\n",
      "print('Dot product of shifted cosine with c_1', cos_x_shifted.dot(c_1))"
     ],
     "language": "python",
     "metadata": {},
     "outputs": []
    },
    {
     "cell_type": "markdown",
     "metadata": {},
     "source": [
      "When the cosine wave is shifted in our data, relative to the $\\vec{c_1}$, then the dot product of the signal against $\\vec{c_1}$ drops in value, and is therefore less successful at detecting this cosine wave."
     ]
    },
    {
     "cell_type": "markdown",
     "metadata": {},
     "source": [
      "This is the role of the $\\vec{s_k}$ vectors in the DFT.  By calculating dot products with the $\\vec{s_k}$ vectors, we can detect cosine waves of any phase.\n",
      "\n",
      "Let us see that in action first, and then explain why this is so.\n",
      "\n",
      "First, here is what happens to the dot products for the shifted and unshifted cosine waves:"
     ]
    },
    {
     "cell_type": "code",
     "collapsed": false,
     "input": [
      "s_1 = np.sin(t_1)\n",
      "plt.plot(t_1, cos_x, label='3 * cos wave')\n",
      "plt.plot(t_1, cos_x_shifted, label='3 * cos wave, shifted')\n",
      "plt.legend()\n",
      "print('Dot product of unshifted cosine with c_1', cos_x.dot(c_1))\n",
      "print('Dot product of unshifted cosine with s_1', cos_x.dot(s_1))\n",
      "print('Dot product of shifted cosine with c_1', cos_x_shifted.dot(c_1))\n",
      "print('Dot product of shifted cosine with s_1', cos_x_shifted.dot(s_1))"
     ],
     "language": "python",
     "metadata": {},
     "outputs": []
    },
    {
     "cell_type": "markdown",
     "metadata": {},
     "source": [
      "Notice that the dot product with $\\vec{s_1}$ is effectively zero in the unshifted case, and goes up to around 34 in the shifted case."
     ]
    },
    {
     "cell_type": "markdown",
     "metadata": {},
     "source": [
      "Now let us use the projections from these dot products to reconstruct the original vector (as we will soon do using the inverse DFT)."
     ]
    },
    {
     "cell_type": "markdown",
     "metadata": {},
     "source": [
      "First we use the dot product with $\\vec{c_1}$ to reconstruct the unshifted cosine (the dot product with $\\vec{s_1}$ is zero, so we do not need it)."
     ]
    },
    {
     "cell_type": "code",
     "collapsed": false,
     "input": [
      "# Reconstruct unshifted cos from dot product projection\n",
      "c_unshifted = cos_x.dot(c_1) / c_1.dot(c_1)\n",
      "proj_onto_c1 = c_unshifted * c_1\n",
      "plt.plot(ns, proj_onto_c1)\n",
      "plt.title('Reconstructed unshifted cosine')"
     ],
     "language": "python",
     "metadata": {},
     "outputs": []
    },
    {
     "cell_type": "markdown",
     "metadata": {},
     "source": [
      "Now we can use the cosine and sine dot product to reconstruct the shifted cosine vector:"
     ]
    },
    {
     "cell_type": "code",
     "collapsed": false,
     "input": [
      "# Reconstruct shifted cos from dot product projection\n",
      "c_cos_shifted = cos_x_shifted.dot(c_1) / c_1.dot(c_1)\n",
      "c_sin_shifted = cos_x_shifted.dot(s_1) / s_1.dot(s_1)\n",
      "proj_onto_c1 = c_cos_shifted * c_1\n",
      "proj_onto_s1 = c_sin_shifted * s_1\n",
      "reconstructed = proj_onto_c1 + proj_onto_s1\n",
      "plt.plot(ns, reconstructed)\n",
      "plt.title('Reconstructed shifted cosine')\n",
      "assert np.allclose(reconstructed, cos_x_shifted)"
     ],
     "language": "python",
     "metadata": {},
     "outputs": []
    },
    {
     "cell_type": "markdown",
     "metadata": {},
     "source": [
      "The reason that this works for any phase shift is the angle sum rule.\n",
      "\n",
      "The angle sum rule is:\n",
      "\n",
      "$$\n",
      "\\cos(\\alpha \\pm \\beta) = \\cos \\alpha \\cos \\beta \\mp \\sin \\alpha \\sin \\beta\n",
      "$$\n",
      "\n",
      "To unpack the $\\pm, \\mp$:\n",
      "\n",
      "$$\n",
      "\\cos(\\alpha + \\beta) = \\cos \\alpha \\cos \\beta - \\sin \\alpha \\sin \\beta \\\\\n",
      "\\cos(\\alpha - \\beta) = \\cos \\alpha \\cos \\beta + \\sin \\alpha \\sin \\beta\\\n",
      "$$"
     ]
    },
    {
     "cell_type": "markdown",
     "metadata": {},
     "source": [
      "See [angle sum proof](https://perrin.dynevor.org/angle_sum.html) for a visual proof in the case of real angles $\\alpha, \\beta$."
     ]
    },
    {
     "cell_type": "code",
     "collapsed": false,
     "input": [],
     "language": "python",
     "metadata": {},
     "outputs": []
    }
   ],
   "metadata": {}
  }
 ]
}