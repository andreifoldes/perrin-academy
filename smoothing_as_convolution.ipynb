{
 "metadata": {
  "name": "",
  "signature": "sha256:cbcaf87d2b20903c741ccb42511512404548109c9d62a98adedc47402a97dbe8"
 },
 "nbformat": 3,
 "nbformat_minor": 0,
 "worksheets": [
  {
   "cells": [
    {
     "cell_type": "code",
     "collapsed": false,
     "input": [
      "# Set up notebook to show data plots in the notebook\n",
      "%matplotlib inline"
     ],
     "language": "python",
     "metadata": {},
     "outputs": []
    },
    {
     "cell_type": "code",
     "collapsed": false,
     "input": [
      "# Import numerical and plotting libraries\n",
      "import numpy as np\n",
      "import numpy.linalg as npl\n",
      "import matplotlib.pyplot as plt"
     ],
     "language": "python",
     "metadata": {},
     "outputs": []
    },
    {
     "cell_type": "markdown",
     "metadata": {},
     "source": [
      "## Smoothing as weighted average"
     ]
    },
    {
     "cell_type": "markdown",
     "metadata": {},
     "source": [
      "In the introduction to smoothing tutorial, we had the following random data:"
     ]
    },
    {
     "cell_type": "code",
     "collapsed": false,
     "input": [
      "np.random.seed(5) # To get predictable random numbers\n",
      "n_points = 40\n",
      "x_vals = np.arange(n_points)\n",
      "y_vals = np.random.normal(size=n_points)\n",
      "plt.bar(x_vals, y_vals)"
     ],
     "language": "python",
     "metadata": {},
     "outputs": []
    },
    {
     "cell_type": "markdown",
     "metadata": {},
     "source": [
      "In the example, we generated a Gaussian kernel over the x axis at index 13.  The kernel had a full-width-at-half-maximum value of 4. This corresponds to a Gaussian sigma value of about 1.7:"
     ]
    },
    {
     "cell_type": "code",
     "collapsed": false,
     "input": [
      "def fwhm2sigma(fwhm):\n",
      "    return fwhm / np.sqrt(8 * np.log(2))"
     ],
     "language": "python",
     "metadata": {},
     "outputs": []
    },
    {
     "cell_type": "code",
     "collapsed": false,
     "input": [
      "sigma = fwhm2sigma(4)\n",
      "sigma"
     ],
     "language": "python",
     "metadata": {},
     "outputs": []
    },
    {
     "cell_type": "code",
     "collapsed": false,
     "input": [
      "x_position = 13\n",
      "# Make Gaussian centered at 13 with given sigma\n",
      "kernel_at_pos = np.exp(-(x_vals - x_position) ** 2 / (2 * sigma ** 2))\n",
      "# Make kernel sum to 1\n",
      "kernel_at_pos = kernel_at_pos / sum(kernel_at_pos)\n",
      "plt.bar(x_vals, kernel_at_pos)"
     ],
     "language": "python",
     "metadata": {},
     "outputs": []
    },
    {
     "cell_type": "markdown",
     "metadata": {},
     "source": [
      "The new smoothed value for x=13 is the sum of the data y values ($y_i : i \\in 0, 1, .. 39$) multiplied by their respective kernel y values ($k_i : i \\in 0, 1, .. 39$):\n",
      "\n",
      "$$\n",
      "y_{13} = \\sum _{i=0} ^{i=39} y_i k_i\n",
      "$$"
     ]
    },
    {
     "cell_type": "code",
     "collapsed": false,
     "input": [
      "np.sum(y_vals * kernel_at_pos)"
     ],
     "language": "python",
     "metadata": {},
     "outputs": []
    },
    {
     "cell_type": "markdown",
     "metadata": {},
     "source": [
      "Of course this is also the [dot product](https://en.wikipedia.org/wiki/Dot_product) of the two vectors:"
     ]
    },
    {
     "cell_type": "code",
     "collapsed": false,
     "input": [
      "y_vals.dot(kernel_at_pos)"
     ],
     "language": "python",
     "metadata": {},
     "outputs": []
    },
    {
     "cell_type": "markdown",
     "metadata": {},
     "source": [
      "## Using a finite width for the kernel"
     ]
    },
    {
     "cell_type": "markdown",
     "metadata": {},
     "source": [
      "Looking at the plot of the kernel, it looks like we have many zero values, far from the central x=13 point.  Maybe we could be more efficient, by only doing the y value multiplication for kernel values that are larger than some threshold, like 0.0001. \n",
      "\n",
      "Let's have another look at the Gaussian"
     ]
    },
    {
     "cell_type": "code",
     "collapsed": false,
     "input": [
      "# Make a +/- x range large enough to let kernel drop to zero\n",
      "x_for_kernel = np.arange(-10, 10)\n",
      "# Calculate kernel\n",
      "kernel = np.exp(-(x_for_kernel) ** 2 / (2 * sigma ** 2))\n",
      "# Threshold\n",
      "kernel_above_thresh = kernel > 0.0001\n",
      "# Find x values where kernel is above threshold\n",
      "x_within_thresh = x_for_kernel[kernel_above_thresh]\n",
      "plt.plot(x_for_kernel, kernel)\n",
      "plt.plot(min(x_within_thresh), 0, marker=7, markersize=40)\n",
      "plt.plot(max(x_within_thresh), 0, marker=7, markersize=40)"
     ],
     "language": "python",
     "metadata": {},
     "outputs": []
    },
    {
     "cell_type": "markdown",
     "metadata": {},
     "source": [
      "We can make a new kernel, with finite width, where the near-zero values have been trimmed:"
     ]
    },
    {
     "cell_type": "code",
     "collapsed": false,
     "input": [
      "finite_kernel = kernel[kernel_above_thresh]\n",
      "# Make kernel sum to 1 again\n",
      "finite_kernel = finite_kernel / finite_kernel.sum()\n",
      "plt.plot(x_within_thresh, finite_kernel)"
     ],
     "language": "python",
     "metadata": {},
     "outputs": []
    },
    {
     "cell_type": "markdown",
     "metadata": {},
     "source": [
      "This kernel has a finite width:"
     ]
    },
    {
     "cell_type": "code",
     "collapsed": false,
     "input": [
      "len(finite_kernel)"
     ],
     "language": "python",
     "metadata": {},
     "outputs": []
    },
    {
     "cell_type": "markdown",
     "metadata": {},
     "source": [
      "To get our smoothed value for x=13, we can shift this trimmed kernel be centered over x=13, and only multiply by the y values that are within the kernel width:"
     ]
    },
    {
     "cell_type": "code",
     "collapsed": false,
     "input": [
      "# Number of kernel points before center (at 0)\n",
      "kernel_n_below_0 = (len(finite_kernel) - 1) / 2.\n",
      "kernel_n_below_0"
     ],
     "language": "python",
     "metadata": {},
     "outputs": []
    },
    {
     "cell_type": "markdown",
     "metadata": {},
     "source": [
      "Because we cut the kernel at a low threshold, the result from using the finite kernel is very similar to using the infinite kernel that we used above:"
     ]
    },
    {
     "cell_type": "code",
     "collapsed": false,
     "input": [
      "# Multiply and sum y values within the finite kernel\n",
      "kernel_starts_at = 13 - kernel_n_below_0\n",
      "y_within_kernel = y_vals[kernel_starts_at : kernel_starts_at + len(finite_kernel)]\n",
      "np.dot(finite_kernel, y_within_kernel)"
     ],
     "language": "python",
     "metadata": {},
     "outputs": []
    },
    {
     "cell_type": "markdown",
     "metadata": {},
     "source": [
      "## Smoothing as convolution"
     ]
    },
    {
     "cell_type": "markdown",
     "metadata": {},
     "source": [
      "If are you [familiar with convolution](http://practical-neuroimaging.github.io/on_convolution.html) the smoothing procedure may be familiar."
     ]
    },
    {
     "cell_type": "markdown",
     "metadata": {},
     "source": [
      "With convolution, we also have a kernel, and we also generate values by taking the sum of the products of values within the kernel."
     ]
    },
    {
     "cell_type": "markdown",
     "metadata": {},
     "source": [
      "With convolution, we *reverse* the convolution *kernel* and the step through the y values, cross-multiplying the y signal with the reversed kernel."
     ]
    },
    {
     "cell_type": "markdown",
     "metadata": {},
     "source": [
      "That could work here too.  There is no need for us to reverse the kernel, because it is symmetrical."
     ]
    },
    {
     "cell_type": "markdown",
     "metadata": {},
     "source": [
      "In fact, it might be possible to see that, we can get exactly our required result for x=13, by convolving the y values with the finite smoothing kernel."
     ]
    },
    {
     "cell_type": "code",
     "collapsed": false,
     "input": [
      "convolved_y = np.convolve(y_vals, finite_kernel)\n",
      "convolved_y[13+ kernel_n_below_0]"
     ],
     "language": "python",
     "metadata": {},
     "outputs": []
    },
    {
     "cell_type": "markdown",
     "metadata": {},
     "source": [
      "Why have I printed out the value at `13 + kernel_n_below_0` ? Because this is the convolution value that corresponds to the weighted sum we did with our original multiplication.  When the convolution algorithm gets to this index, it applies the reversed smoothing kernel to this index and the `len(finite_kernel) - 1` values before it.  This is the exact same set of multiplications we did for the original multiplication.  Thus, in order to get the same smoothed values as we did when we were multiplying by a centered kernel, we have to get the values from the convolved output from  half the kernel width ahead of the index we are interested in."
     ]
    },
    {
     "cell_type": "code",
     "collapsed": false,
     "input": [
      "smoothed_by_convolving = convolved_y[kernel_n_below_0:(n_points+kernel_n_below_0)]\n",
      "plt.bar(x_vals, smoothed_by_convolving)"
     ],
     "language": "python",
     "metadata": {},
     "outputs": []
    },
    {
     "cell_type": "markdown",
     "metadata": {},
     "source": [
      "Here we were able to get the effect of an offset in the kernel, by taking an offset (`kernel_n_below_0`) in the output data.  We have made use of the [translation invariance](https://en.wikipedia.org/wiki/Convolution#Translation_invariance) property of convolution."
     ]
    },
    {
     "cell_type": "markdown",
     "metadata": {},
     "source": [
      "## Convolution and edges"
     ]
    },
    {
     "cell_type": "markdown",
     "metadata": {},
     "source": [
      "If you were very observant, you may have noticed that the convolution results above differ slightly from the convolution using the simple crude method in the [introduction to smoothing](http://perrin.dynevor.org/smoothing_intro.html).\n",
      "\n",
      "Here are those results for comparison:"
     ]
    },
    {
     "cell_type": "code",
     "collapsed": false,
     "input": [
      "smoothed_vals = np.zeros(y_vals.shape)\n",
      "for x_position in x_vals:\n",
      "     kernel = np.exp(-(x_vals - x_position) ** 2 / (2 * sigma ** 2))\n",
      "     kernel = kernel / sum(kernel)\n",
      "     smoothed_vals[x_position] = sum(y_vals * kernel)\n",
      "plt.bar(x_vals, smoothed_vals)"
     ],
     "language": "python",
     "metadata": {},
     "outputs": []
    },
    {
     "cell_type": "markdown",
     "metadata": {},
     "source": [
      "Notice that this plot has higher values at the edges of the data.\n",
      "\n",
      "The reason is that the simple method above only evaluates the kernel for the x points present in the data.  Therefore, at the left and right edges, this method is only applying half a Gaussian to the data.  On the left it is applying the right half of the Gaussian, and on the right it is applying the left half of the Gaussian. Notice too that this simple method always makes the kernel sum to zero, so, when smoothing the points at the edges, with the half kernel, the remaining points get more weight.\n",
      "\n",
      "This is one technique for dealing with the edges called *truncating the kernel*.\n",
      "\n",
      "Convolution, by default, does not truncate the kernel, but assumes that data outside the x points we have are all zero.  This is called *zero padding*.  Using zero padding, the points towards the edge get pulled down towards zero because they are part-made of the result of taking the product of zero with the kernel values."
     ]
    },
    {
     "cell_type": "markdown",
     "metadata": {},
     "source": [
      "When we do spatial smoothing, this can be a significant problem.  For example, imagine smoothing close to the bottom (inferior) edge of a brain image, where the edge voxels are likely to have brain signal. If we use zero padding then the values near the edge will get pulled towards zero causing a strong signal change from smoothing.\n",
      "\n",
      "In this case we might prefer some other method of dealing with the data off the edge of the image, for example by assuming the signal is a flipped version of the signal going towards the edge.  See the description of the `mode` argument in the docstring for `scipy.ndimage.gaussian_filter` for some other options."
     ]
    }
   ],
   "metadata": {}
  }
 ]
}